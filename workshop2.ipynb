{
 "cells": [
  {
   "cell_type": "code",
   "execution_count": null,
   "metadata": {
    "collapsed": true
   },
   "outputs": [],
   "source": [
    "from datasets import load_dataset\n",
    "\n",
    "from transformers import (\n",
    "    AutoTokenizer,\n",
    "    BertModel, BertConfig,\n",
    "   )\n",
    "\n",
    "import torch\n",
    "import torch.nn as nn\n",
    "from torch.utils.data import DataLoader\n",
    "from transformers import AdamW, get_linear_schedule_with_warmup\n",
    "from tqdm import tqdm\n",
    "\n",
    "from peft import LoraConfig\n",
    "import evaluate\n",
    "import torch\n",
    "import numpy as np"
   ]
  },
  {
   "cell_type": "code",
   "execution_count": null,
   "outputs": [],
   "source": [
    "device = torch.device(\"cuda:0\" if torch.cuda.is_available() else \"cpu\")\n"
   ],
   "metadata": {
    "collapsed": false
   }
  },
  {
   "cell_type": "code",
   "execution_count": null,
   "outputs": [],
   "source": [
    "\n",
    "# import accuracy evaluation metric\n",
    "accuracy = evaluate.load(\"accuracy\")\n",
    "rmse = evaluate.load('mse')\n",
    "\n",
    "# define an evaluation function to pass into trainer later\n",
    "def compute_metrics(p):\n",
    "    predictions, labels = p\n",
    "    predictions = np.argmax(predictions, axis=1)\n",
    "\n",
    "    return {\"accuracy\": accuracy.compute(predictions=predictions, references=labels)}"
   ],
   "metadata": {
    "collapsed": false
   }
  },
  {
   "cell_type": "code",
   "execution_count": null,
   "outputs": [],
   "source": [
    "class BertForSEQCLF(nn.Module):\n",
    "    def __init__(self, hidden_size, num_labels):\n",
    "        super(BertForSEQCLF, self).__init__()\n",
    "        self.classifier = nn.Linear(hidden_size, num_labels)\n",
    "\n",
    "    def forward(self, sequence_output):\n",
    "        logits = self.classifier(sequence_output[:, 0])  # Take the [CLS] token's hidden state\n",
    "        return logits\n",
    "\n",
    "class BertForTextSummarization(nn.Module):\n",
    "    def __init__(self, hidden_size):\n",
    "        super(BertForTextSummarization, self).__init__()\n",
    "        self.decoder = nn.Linear(hidden_size, hidden_size)  # You may want to use a more sophisticated decoder\n",
    "\n",
    "    def forward(self, sequence_output):\n",
    "        return self.decoder(sequence_output)\n",
    "\n",
    "import torch.nn.functional as F\n",
    "\n",
    "class BertForSTS(nn.Module):\n",
    "    def __init__(self, hidden_size):\n",
    "        super(BertForSTS, self).__init__()\n",
    "        self.dense = nn.Linear(hidden_size, 1)\n",
    "        # self.sigmoid = nn.Sigmoid()\n",
    "\n",
    "    def forward(self, pooled_output):\n",
    "        # pooled_output = sequence_output[:, 0]  # Using [CLS] token output\n",
    "        logits = self.dense(pooled_output)\n",
    "        # scaled_logit = 5 * self.sigmoid(logits)\n",
    "         # Approximate sigmoid using two ReLUs\n",
    "        approx_sigmoid = F.relu(logits) - F.relu(logits - 5)\n",
    "        return approx_sigmoid\n",
    "        # return scaled_logit\n",
    "\n",
    "class BertForQuestionAnswering(nn.Module):\n",
    "    def __init__(self, hidden_size):\n",
    "        super(BertForQuestionAnswering, self).__init__()\n",
    "        self.qa_outputs = nn.Linear(hidden_size, 2)\n",
    "\n",
    "    def forward(self, sequence_output):\n",
    "        logits = self.qa_outputs(sequence_output)\n",
    "        start_logits, end_logits = logits.split(1, dim=-1)\n",
    "        start_logits = start_logits.squeeze(-1)\n",
    "        end_logits = end_logits.squeeze(-1)\n",
    "        return {'start_logits' :start_logits, \"end_logits\" : end_logits}\n"
   ],
   "metadata": {
    "collapsed": false
   }
  }
 ],
 "metadata": {
  "kernelspec": {
   "display_name": "Python 3",
   "language": "python",
   "name": "python3"
  },
  "language_info": {
   "codemirror_mode": {
    "name": "ipython",
    "version": 2
   },
   "file_extension": ".py",
   "mimetype": "text/x-python",
   "name": "python",
   "nbconvert_exporter": "python",
   "pygments_lexer": "ipython2",
   "version": "2.7.6"
  }
 },
 "nbformat": 4,
 "nbformat_minor": 0
}
