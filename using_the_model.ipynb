{
 "cells": [
  {
   "attachments": {},
   "cell_type": "markdown",
   "metadata": {},
   "source": [
    "# Using PyTorch Lightning for Inference"
   ]
  },
  {
   "cell_type": "code",
   "execution_count": 1,
   "metadata": {},
   "outputs": [],
   "source": [
    "import os\n",
    "from module import SequenceClassificationModule"
   ]
  },
  {
   "attachments": {},
   "cell_type": "markdown",
   "metadata": {},
   "source": [
    "## Loading a model checkpoint with PyTorch Lightning"
   ]
  },
  {
   "attachments": {},
   "cell_type": "markdown",
   "metadata": {},
   "source": [
    "It is possible to load checkpoints directly into LightningModules to either continue training, or for inference. Here, we load the model with the expectation that we will use it to predict on sequences of text."
   ]
  },
  {
   "cell_type": "code",
   "execution_count": 2,
   "metadata": {},
   "outputs": [
    {
     "name": "stdout",
     "output_type": "stream",
     "text": [
      "We will use the textattack-bert-base-uncased-yelp-polarity_1xNVIDIA-A10G_LR5e-05_BS16_2024-01-30T19:41:33.978407.ckpt checkpoint for inference\n"
     ]
    }
   ],
   "source": [
    "checkpoints = os.listdir(\"checkpoints\")\n",
    "print(f\"We will use the {checkpoints[0]} checkpoint for inference\")"
   ]
  },
  {
   "cell_type": "code",
   "execution_count": 3,
   "metadata": {},
   "outputs": [
    {
     "name": "stderr",
     "output_type": "stream",
     "text": [
      "/home/zeus/miniconda3/envs/cloudspace/lib/python3.10/site-packages/torch/_utils.py:831: UserWarning: TypedStorage is deprecated. It will be removed in the future and UntypedStorage will be the only storage class. This should only matter to you if you are using storages directly.  To access UntypedStorage directly, use tensor.untyped_storage() instead of tensor.storage()\n",
      "  return self.fget.__get__(instance, owner)()\n"
     ]
    }
   ],
   "source": [
    "model = SequenceClassificationModule.load_from_checkpoint(f\"checkpoints/{checkpoints[0]}\")"
   ]
  },
  {
   "attachments": {},
   "cell_type": "markdown",
   "metadata": {},
   "source": [
    "Let's check out our model's hyperparameters and other settings by calling the config attribute of the inner module (the BERT model):"
   ]
  },
  {
   "cell_type": "code",
   "execution_count": 4,
   "metadata": {},
   "outputs": [
    {
     "data": {
      "text/plain": [
       "BertConfig {\n",
       "  \"_name_or_path\": \"textattack/bert-base-uncased-yelp-polarity\",\n",
       "  \"architectures\": [\n",
       "    \"BertForSequenceClassification\"\n",
       "  ],\n",
       "  \"attention_probs_dropout_prob\": 0.1,\n",
       "  \"classifier_dropout\": null,\n",
       "  \"finetuning_task\": \"yelp_polarity\",\n",
       "  \"gradient_checkpointing\": false,\n",
       "  \"hidden_act\": \"gelu\",\n",
       "  \"hidden_dropout_prob\": 0.1,\n",
       "  \"hidden_size\": 768,\n",
       "  \"initializer_range\": 0.02,\n",
       "  \"intermediate_size\": 3072,\n",
       "  \"layer_norm_eps\": 1e-12,\n",
       "  \"max_position_embeddings\": 512,\n",
       "  \"model_type\": \"bert\",\n",
       "  \"num_attention_heads\": 12,\n",
       "  \"num_hidden_layers\": 12,\n",
       "  \"pad_token_id\": 0,\n",
       "  \"position_embedding_type\": \"absolute\",\n",
       "  \"transformers_version\": \"4.37.0\",\n",
       "  \"type_vocab_size\": 2,\n",
       "  \"use_cache\": true,\n",
       "  \"vocab_size\": 30522\n",
       "}"
      ]
     },
     "execution_count": 4,
     "metadata": {},
     "output_type": "execute_result"
    }
   ],
   "source": [
    "model.model.config"
   ]
  },
  {
   "attachments": {},
   "cell_type": "markdown",
   "metadata": {},
   "source": [
    "## Using LightningModule's .predict_step to classify a sequence"
   ]
  },
  {
   "attachments": {},
   "cell_type": "markdown",
   "metadata": {},
   "source": [
    "We know from our `visualizing_logs_metrics_cost.ipynb` notebook that the models should produce reasonably accurate results, as each model had a final validation accuracy of around 90%.\n",
    "\n",
    "Below, we read in known positive sequences taken from the test dataset, and then pass that sequence to our LightningModules's `predict_step` several times to observe results:"
   ]
  },
  {
   "cell_type": "code",
   "execution_count": 5,
   "metadata": {},
   "outputs": [],
   "source": [
    "from datasets import load_dataset"
   ]
  },
  {
   "cell_type": "code",
   "execution_count": 6,
   "metadata": {},
   "outputs": [],
   "source": [
    "labels = {\"negative\": 0, \"positive\": 1}\n",
    "test_dataset = load_dataset(\"imdb\", cache_dir=\"data\", split=\"test\")"
   ]
  },
  {
   "attachments": {},
   "cell_type": "markdown",
   "metadata": {},
   "source": [
    "Let's create a list to keep track of results from the output:"
   ]
  },
  {
   "cell_type": "code",
   "execution_count": 7,
   "metadata": {},
   "outputs": [],
   "source": [
    "results = []"
   ]
  },
  {
   "attachments": {},
   "cell_type": "markdown",
   "metadata": {},
   "source": [
    "and now, let's create our positive labeled sample:"
   ]
  },
  {
   "cell_type": "code",
   "execution_count": 8,
   "metadata": {},
   "outputs": [
    {
     "data": {
      "text/plain": [
       "[{'text': \"Previous reviewer Claudio Carvalho gave a much better recap of the film's plot details than I could. What I recall mostly is that it was just so beautiful, in every sense - emotionally, visually, editorially - just gorgeous.<br /><br />If you like movies that are wonderful to look at, and also have emotional content to which that beauty is relevant, I think you will be glad to have seen this extraordinary and unusual work of art.<br /><br />On a scale of 1 to 10, I'd give it about an 8.75. The only reason I shy away from 9 is that it is a mood piece. If you are in the mood for a really artistic, very romantic film, then it's a 10. I definitely think it's a must-see, but none of us can be in that mood all the time, so, overall, 8.75.\",\n",
       "  'label': 1},\n",
       " {'text': 'CONTAINS \"SPOILER\" INFORMATION. Watch this director\\'s other film, \"Earth\", at some point. It\\'s a better film, but this one isn\\'t bad just different.<br /><br />A rare feminist point of view from an Indian filmmaker. Tradition, rituals, duty, secrets, and the portrayal of strict sex roles make this an engaging and culturally dynamic film viewing experience. All of the married characters lack the \"fire\" of the marriage bed with their respective spouses. One husband is celibate and commits a form of spiritual \"adultery\" by giving all of his love, honor, time and respect to his religious swami (guru). His wife is lonely and yearns for intimacy and tenderness which she eventually finds with her closeted lesbian sister-in-law who comes to live in their house with her unfaithful husband. This unfaithful husband is openly in love with his Chinese mistress but was forced into marriage with a (unbeknownest to him) lesbian. They only have sex once when his closet lesbian wife loses her virginity.<br /><br />A servant lives in the house and he eventually reveals the secret that the two women are lovers. Another significant character is the elderly matriarch who is unable to speak or care for herself due to a stroke. However, she uses a ringing bell to communicate her needs as well as her displeasure with the family members. She lets them know through her bell or by pounding her fist that she knows exacly what\\'s going on in the house and how much she disapproves.<br /><br />In the end, the truth about everybody comes out and the two female lovers end up running away together. But, not before there is an emotional scene between the swami-addicted husband and his formerly straight wife. Her sari catches on fire and at first we think she is going to die. However, we see the two women united in the very last scene of the movie.<br /><br />The writer/director of this film challenges her culture\\'s traditions, but she shows us individual human beings who are trapped by their culture and gender. We come to really care about the characters and we don\\'t see them as stereotypes. Each on surprises us with their humanity, vulgarity, tenderness, anger, and spirit.',\n",
       "  'label': 1},\n",
       " {'text': 'This is my first Deepa Mehta film. I saw the film on TV in its Hindi version with its \"Sita\" character presented as Nita. I also note that it is Radha who underwent the allegorical trial by fire in the film and not Nita/Sita. Yet what I loved about the film was its screenplay by Ms Mehta, not her direction. The characters, big and small, were well-developed and seemed quixotic towards the end--somewhat like the end of Mazursky\\'s \"An Unmarried Woman.\" They are brave women surrounded by cardboard men. And one cardboard man (Ashok) seems to come alive in the last shot we see of him---carrying his invalid mother Biji. He seems to finally take on a future responsibility beyond celibacy and adherance to religion. <br /><br />Ms Mehta seems to fumble as a director (however, compared to most Indian mainstream cinema she would seem to be brilliant) as she cannot use her script to go beyond the microscopic joint family she is presenting except presenting a glimpse of the Chinese micro-minority in the social milieu of India. She even dedicates the film to her mother and daughter (not her father!) Yet her Radha reminesces of halcyon days with both her parents in a mustard field. Compare her to Mrinal Sen, Adoor Gopalakrishnan, Muzaffar Ali and she is dwarfed by these giants--given her competent Canadian production team and financial resources! Mehta\\'s film of two bisexual ladies in an Indian middle-class household may be sacrilege to some, but merely captures the atrophy of middle-class homes that does not seem to aspire for something better than its immediate survival in a limited social space. Kannada, Malayalam, and Bengali films have touched parallel themes in India but did not have the publicity that surrounded this film and therefore have not been seen by a wide segment of knowledgeable cinemagoers.<br /><br />Ms Das, Ms Azmi, Mr Jafri and Mr Kharbanda are credible but not outstanding. Ms Azmi is a talented actress who gave superb performances under good directors (Mrinal Sen\\'s \"Khandar\", Gautam Ghose\\'s \"Paar\", Benegal\\'s \"Ankur\") a brilliance notably absent in this film. Ms Das sparkled due to her screen presence rather than her acting capability. All in all, the film\\'s strength remains in the structure of the screenplay which is above average in terms of international cinema. I am sure Ms Mehta can hone her writing talents in her future screenplays.',\n",
       "  'label': 1},\n",
       " {'text': 'This was a great film in every sense of the word. It tackles the subject of tribadism in a society that is quite intolerant of any deviations from the norm. It criticises a great many Indian customs that many find oppressive -- such as the arranging of marriages by others, the importance of status and face, religious hypocrisy, sexism, the valuation of women in terms of their baby-making capacity, the binding concepts of duty and so on. At the heart of the film is a touching love story that goes beyond such limitations of the society which the two protagonists find themselves. The film is well-acted and genuine, completely believable from beginning to end, unlike most Bollywood flicks. The main faults of the film as I saw it was first, that the two lovers seem drawn to one another not necessarily by a natural affinity for each other as much as the fact that they are stuck in dead-end marriages with no passion and no rewards. This may play a part in the sexual awakening of the characters, but most people stuck in the same situation will not \"turn homosexual\". It seems clear from the beginning of the film that the two characters are quite heterosexual -- when Radha does her scene at the end of the movie with Aashok, she makes it quite clear that \"without desire she was dead\", and the implication was that if he had desired so, he could have fulfilled her quite completely, and also when Sita seemed very disappointed when her husband seemed to not like her. Such situations do not turn people into homosexuals -- they may seek comfort in others in the same position, but inthe film it is not at all made clear that they are lesbians from the beginning -- quite the opposite. Some people are bisexual, it is true, but most tend to be either hetero- or homosexual. In the case of the ladies in the film, both had insensitive jerks for husbands . . . if this had not been the case, would they have naturally found the need to express their desire in a relationship that they may have otherwise not have considered? The film ignores this. The other fault is the naming of the characters . . . the names Sita and Radha seem contrived deliberately to shock and outrage (imagine a film in America depicting a gay relationship between a man named \"Jesus\" and another named \"Paul\"!) by using names associated with various Hindoo scriptures. The film is strong enough to stand on its own and needs no such devices in my opinion. At any rate, the faults do not take much away from the power of the movie. It is indeed a very touching and powerful story -- the images and characters will stay with you a long time after you leave the theatre.',\n",
       "  'label': 1},\n",
       " {'text': 'A stunningly well-made film, with exceptional acting, directing, writing, and photography.<br /><br />A newlywed finds married life not what she expected, and starts to question her duty to herself versus her duty to society. Together with her sister -in-law, she makes some radical departures from conventional roles and mores.',\n",
       "  'label': 1}]"
      ]
     },
     "execution_count": 8,
     "metadata": {},
     "output_type": "execute_result"
    }
   ],
   "source": [
    "pos = []\n",
    "\n",
    "for i in range(len(test_dataset)):\n",
    "    if test_dataset[i][\"label\"] == 1:\n",
    "        pos.append(test_dataset[i])\n",
    "    if len(pos) == 5:\n",
    "        break\n",
    "\n",
    "assert all([i[\"label\"] == labels[\"positive\"] for i in pos])\n",
    "\n",
    "pos"
   ]
  },
  {
   "cell_type": "code",
   "execution_count": 9,
   "metadata": {},
   "outputs": [
    {
     "name": "stdout",
     "output_type": "stream",
     "text": [
      "Our finetuned model classifies this sequence as: 1. Actual label is 1. The classification is True\n",
      "Our finetuned model classifies this sequence as: 1. Actual label is 1. The classification is True\n",
      "Our finetuned model classifies this sequence as: 1. Actual label is 1. The classification is True\n",
      "Our finetuned model classifies this sequence as: 1. Actual label is 1. The classification is True\n",
      "Our finetuned model classifies this sequence as: 1. Actual label is 1. The classification is True\n"
     ]
    }
   ],
   "source": [
    "for sequence in pos:\n",
    "    pred = labels[model.predict_step(sequence=sequence['text'])]\n",
    "    truth = sequence['label']\n",
    "    result = pred == truth\n",
    "    results.append(result)\n",
    "    print(f\"Our finetuned model classifies this sequence as: {pred}. Actual label is {truth}. The classification is {result}\")"
   ]
  },
  {
   "attachments": {},
   "cell_type": "markdown",
   "metadata": {},
   "source": [
    "and, for known negative sequences:"
   ]
  },
  {
   "cell_type": "code",
   "execution_count": 10,
   "metadata": {},
   "outputs": [
    {
     "data": {
      "text/plain": [
       "[{'text': 'I love sci-fi and am willing to put up with a lot. Sci-fi movies/TV are usually underfunded, under-appreciated and misunderstood. I tried to like this, I really did, but it is to good TV sci-fi as Babylon 5 is to Star Trek (the original). Silly prosthetics, cheap cardboard sets, stilted dialogues, CG that doesn\\'t match the background, and painfully one-dimensional characters cannot be overcome with a \\'sci-fi\\' setting. (I\\'m sure there are those of you out there who think Babylon 5 is good sci-fi TV. It\\'s not. It\\'s clichéd and uninspiring.) While US viewers might like emotion and character development, sci-fi is a genre that does not take itself seriously (cf. Star Trek). It may treat important issues, yet not as a serious philosophy. It\\'s really difficult to care about the characters here as they are not simply foolish, just missing a spark of life. Their actions and reactions are wooden and predictable, often painful to watch. The makers of Earth KNOW it\\'s rubbish as they have to always say \"Gene Roddenberry\\'s Earth...\" otherwise people would not continue watching. Roddenberry\\'s ashes must be turning in their orbit as this dull, cheap, poorly edited (watching it without advert breaks really brings this home) trudging Trabant of a show lumbers into space. Spoiler. So, kill off a main character. And then bring him back as another actor. Jeeez! Dallas all over again.',\n",
       "  'label': 0},\n",
       " {'text': \"Worth the entertainment value of a rental, especially if you like action movies. This one features the usual car chases, fights with the great Van Damme kick style, shooting battles with the 40 shell load shotgun, and even terrorist style bombs. All of this is entertaining and competently handled but there is nothing that really blows you away if you've seen your share before.<br /><br />The plot is made interesting by the inclusion of a rabbit, which is clever but hardly profound. Many of the characters are heavily stereotyped -- the angry veterans, the terrified illegal aliens, the crooked cops, the indifferent feds, the bitchy tough lady station head, the crooked politician, the fat federale who looks like he was typecast as the Mexican in a Hollywood movie from the 1940s. All passably acted but again nothing special.<br /><br />I thought the main villains were pretty well done and fairly well acted. By the end of the movie you certainly knew who the good guys were and weren't. There was an emotional lift as the really bad ones got their just deserts. Very simplistic, but then you weren't expecting Hamlet, right? The only thing I found really annoying was the constant cuts to VDs daughter during the last fight scene.<br /><br />Not bad. Not good. Passable 4.\",\n",
       "  'label': 0},\n",
       " {'text': \"its a totally average film with a few semi-alright action sequences that make the plot seem a little better and remind the viewer of the classic van dam films. parts of the plot don't make sense and seem to be added in to use up time. the end plot is that of a very basic type that doesn't leave the viewer guessing and any twists are obvious from the beginning. the end scene with the flask backs don't make sense as they are added in and seem to have little relevance to the history of van dam's character. not really worth watching again, bit disappointed in the end production, even though it is apparent it was shot on a low budget certain shots and sections in the film are of poor directed quality\",\n",
       "  'label': 0},\n",
       " {'text': \"STAR RATING: ***** Saturday Night **** Friday Night *** Friday Morning ** Sunday Night * Monday Morning <br /><br />Former New Orleans homicide cop Jack Robideaux (Jean Claude Van Damme) is re-assigned to Columbus, a small but violent town in Mexico to help the police there with their efforts to stop a major heroin smuggling operation into their town. The culprits turn out to be ex-military, lead by former commander Benjamin Meyers (Stephen Lord, otherwise known as Jase from East Enders) who is using a special method he learned in Afghanistan to fight off his opponents. But Jack has a more personal reason for taking him down, that draws the two men into an explosive final showdown where only one will walk away alive.<br /><br />After Until Death, Van Damme appeared to be on a high, showing he could make the best straight to video films in the action market. While that was a far more drama oriented film, with The Shepherd he has returned to the high-kicking, no brainer action that first made him famous and has sadly produced his worst film since Derailed. It's nowhere near as bad as that film, but what I said still stands.<br /><br />A dull, predictable film, with very little in the way of any exciting action. What little there is mainly consists of some limp fight scenes, trying to look cool and trendy with some cheap slo-mo/sped up effects added to them that sadly instead make them look more desperate. Being a Mexican set film, director Isaac Florentine has tried to give the film a Robert Rodriguez/Desperado sort of feel, but this only adds to the desperation.<br /><br />VD gives a particularly uninspired performance and given he's never been a Robert De Niro sort of actor, that can't be good. As the villain, Lord shouldn't expect to leave the beeb anytime soon. He gets little dialogue at the beginning as he struggles to muster an American accent but gets mysteriously better towards the end. All the supporting cast are equally bland, and do nothing to raise the films spirits at all.<br /><br />This is one shepherd that's strayed right from the flock. *\",\n",
       "  'label': 0},\n",
       " {'text': \"First off let me say, If you haven't enjoyed a Van Damme movie since bloodsport, you probably will not like this movie. Most of these movies may not have the best plots or best actors but I enjoy these kinds of movies for what they are. This movie is much better than any of the movies the other action guys (Segal and Dolph) have thought about putting out the past few years. Van Damme is good in the movie, the movie is only worth watching to Van Damme fans. It is not as good as Wake of Death (which i highly recommend to anyone of likes Van Damme) or In hell but, in my opinion it's worth watching. It has the same type of feel to it as Nowhere to Run. Good fun stuff!\",\n",
       "  'label': 0}]"
      ]
     },
     "execution_count": 10,
     "metadata": {},
     "output_type": "execute_result"
    }
   ],
   "source": [
    "neg = []\n",
    "\n",
    "for i in range(len(test_dataset)):\n",
    "    if test_dataset[i][\"label\"] == 0:\n",
    "        neg.append(test_dataset[i])\n",
    "    if len(neg) == 5:\n",
    "        break\n",
    "\n",
    "assert all([i[\"label\"] == labels[\"negative\"] for i in neg])\n",
    "\n",
    "neg"
   ]
  },
  {
   "cell_type": "code",
   "execution_count": 11,
   "metadata": {},
   "outputs": [
    {
     "name": "stdout",
     "output_type": "stream",
     "text": [
      "Our finetuned model classifies this sequence as: 0. Actual label is 0. The classification is True\n",
      "Our finetuned model classifies this sequence as: 0. Actual label is 0. The classification is True\n",
      "Our finetuned model classifies this sequence as: 0. Actual label is 0. The classification is True\n",
      "Our finetuned model classifies this sequence as: 0. Actual label is 0. The classification is True\n",
      "Our finetuned model classifies this sequence as: 1. Actual label is 0. The classification is False\n"
     ]
    }
   ],
   "source": [
    "for sequence in neg:\n",
    "    pred = labels[model.predict_step(sequence=sequence['text'])]\n",
    "    truth = sequence['label']\n",
    "    result = pred == truth\n",
    "    results.append(result)\n",
    "    print(f\"Our finetuned model classifies this sequence as: {pred}. Actual label is {truth}. The classification is {result}\")"
   ]
  },
  {
   "attachments": {},
   "cell_type": "markdown",
   "metadata": {},
   "source": [
    "## Conclusion"
   ]
  },
  {
   "cell_type": "code",
   "execution_count": 12,
   "metadata": {},
   "outputs": [
    {
     "name": "stdout",
     "output_type": "stream",
     "text": [
      "1 sequences were incorrectly labeled out of 10 sequences\n"
     ]
    }
   ],
   "source": [
    "false = [i for i in results if i == False]\n",
    "\n",
    "if false:\n",
    "    print(f\"{len(false)} sequences were incorrectly labeled out of {len(results)} sequences\")\n",
    "else:\n",
    "    print(\"no false predictions!\")"
   ]
  },
  {
   "attachments": {},
   "cell_type": "markdown",
   "metadata": {},
   "source": [
    "We can see that our output coincidentally falls within the range of our validation accuracy. \n",
    "\n",
    "Let's keep in mind that this isn't necessarily indicative of a well performing model, as this is just a small sample of unseen sequences. Additionally, we should consider whether or not 90% is accurate enough for our needs i.e. is mislabeling 10% of negative reviews acceptable? \n",
    "\n",
    "In the interim, given the nature of this scenario – classifying customer reviews – so long as a model maintains this level of accuracy in production, this may be an acceptable rate so that there is a solution in place while we continue to attempt to improve on a new version of the model for A/B testing in production."
   ]
  }
 ],
 "metadata": {
  "kernelspec": {
   "display_name": "Python 3",
   "language": "python",
   "name": "python3"
  },
  "language_info": {
   "codemirror_mode": {
    "name": "ipython",
    "version": 3
   },
   "file_extension": ".py",
   "mimetype": "text/x-python",
   "name": "python",
   "nbconvert_exporter": "python",
   "pygments_lexer": "ipython3",
   "version": "3.10.11"
  },
  "orig_nbformat": 4
 },
 "nbformat": 4,
 "nbformat_minor": 2
}
