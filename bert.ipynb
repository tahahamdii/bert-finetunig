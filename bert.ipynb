{
 "cells": [
  {
   "cell_type": "code",
   "id": "initial_id",
   "metadata": {
    "collapsed": true,
    "ExecuteTime": {
     "end_time": "2024-10-03T19:19:57.148893Z",
     "start_time": "2024-10-03T19:17:51.619901Z"
    }
   },
   "source": [
    "!pip install -U -q transformers\n",
    "!pip install -U -q accelerate\n",
    "!pip install -U -q datasets\n",
    "!pip install -U -q bertviz\n",
    "!pip install -U -q umap-learn\n",
    "!pip install -U -q evaluate"
   ],
   "outputs": [
    {
     "name": "stderr",
     "output_type": "stream",
     "text": [
      "Could not find platform independent libraries <prefix>\n",
      "\n",
      "[notice] A new release of pip is available: 23.2.1 -> 24.2\n",
      "[notice] To update, run: python.exe -m pip install --upgrade pip\n",
      "Could not find platform independent libraries <prefix>\n",
      "\n",
      "[notice] A new release of pip is available: 23.2.1 -> 24.2\n",
      "[notice] To update, run: python.exe -m pip install --upgrade pip\n",
      "Could not find platform independent libraries <prefix>\n",
      "\n",
      "[notice] A new release of pip is available: 23.2.1 -> 24.2\n",
      "[notice] To update, run: python.exe -m pip install --upgrade pip\n",
      "Could not find platform independent libraries <prefix>\n",
      "\n",
      "[notice] A new release of pip is available: 23.2.1 -> 24.2\n",
      "[notice] To update, run: python.exe -m pip install --upgrade pip\n",
      "Could not find platform independent libraries <prefix>\n",
      "\n",
      "[notice] A new release of pip is available: 23.2.1 -> 24.2\n",
      "[notice] To update, run: python.exe -m pip install --upgrade pip\n",
      "Could not find platform independent libraries <prefix>\n",
      "\n",
      "[notice] A new release of pip is available: 23.2.1 -> 24.2\n",
      "[notice] To update, run: python.exe -m pip install --upgrade pip\n"
     ]
    }
   ],
   "execution_count": 1
  },
  {
   "metadata": {
    "ExecuteTime": {
     "end_time": "2024-10-03T19:20:00.284074Z",
     "start_time": "2024-10-03T19:19:57.150399Z"
    }
   },
   "cell_type": "code",
   "source": [
    "!pip install matplotlib\n"
   ],
   "id": "d1407826ec077acf",
   "outputs": [
    {
     "name": "stdout",
     "output_type": "stream",
     "text": [
      "Requirement already satisfied: matplotlib in c:\\projects\\bert\\.venv\\lib\\site-packages (3.9.2)\n",
      "Requirement already satisfied: contourpy>=1.0.1 in c:\\projects\\bert\\.venv\\lib\\site-packages (from matplotlib) (1.3.0)\n",
      "Requirement already satisfied: cycler>=0.10 in c:\\projects\\bert\\.venv\\lib\\site-packages (from matplotlib) (0.12.1)\n",
      "Requirement already satisfied: fonttools>=4.22.0 in c:\\projects\\bert\\.venv\\lib\\site-packages (from matplotlib) (4.53.1)\n",
      "Requirement already satisfied: kiwisolver>=1.3.1 in c:\\projects\\bert\\.venv\\lib\\site-packages (from matplotlib) (1.4.7)\n",
      "Requirement already satisfied: numpy>=1.23 in c:\\projects\\bert\\.venv\\lib\\site-packages (from matplotlib) (2.0.2)\n",
      "Requirement already satisfied: packaging>=20.0 in c:\\projects\\bert\\.venv\\lib\\site-packages (from matplotlib) (24.1)\n",
      "Requirement already satisfied: pillow>=8 in c:\\projects\\bert\\.venv\\lib\\site-packages (from matplotlib) (10.4.0)\n",
      "Requirement already satisfied: pyparsing>=2.3.1 in c:\\projects\\bert\\.venv\\lib\\site-packages (from matplotlib) (3.1.4)\n",
      "Requirement already satisfied: python-dateutil>=2.7 in c:\\projects\\bert\\.venv\\lib\\site-packages (from matplotlib) (2.9.0.post0)\n",
      "Requirement already satisfied: six>=1.5 in c:\\projects\\bert\\.venv\\lib\\site-packages (from python-dateutil>=2.7->matplotlib) (1.16.0)\n"
     ]
    },
    {
     "name": "stderr",
     "output_type": "stream",
     "text": [
      "Could not find platform independent libraries <prefix>\n",
      "\n",
      "[notice] A new release of pip is available: 23.2.1 -> 24.2\n",
      "[notice] To update, run: python.exe -m pip install --upgrade pip\n"
     ]
    }
   ],
   "execution_count": 2
  },
  {
   "metadata": {
    "ExecuteTime": {
     "end_time": "2024-10-03T19:20:22.957780Z",
     "start_time": "2024-10-03T19:20:00.284831Z"
    }
   },
   "cell_type": "code",
   "source": [
    "import torch\n",
    "import numpy as np\n",
    "import pandas as pd\n",
    "import matplotlib.pyplot as plt"
   ],
   "id": "29385b7064059573",
   "outputs": [],
   "execution_count": 3
  },
  {
   "metadata": {
    "ExecuteTime": {
     "end_time": "2024-10-03T19:20:25.728657Z",
     "start_time": "2024-10-03T19:20:22.959286Z"
    }
   },
   "cell_type": "code",
   "source": [
    "from transformers import AutoTokenizer\n",
    "from sklearn.model_selection import train_test_split\n",
    "from datasets import Dataset, DatasetDict\n",
    "from transformers import AutoModel"
   ],
   "id": "da4b219c21631374",
   "outputs": [],
   "execution_count": 4
  },
  {
   "metadata": {
    "ExecuteTime": {
     "end_time": "2024-10-03T19:20:40.741304Z",
     "start_time": "2024-10-03T19:20:25.730163Z"
    }
   },
   "cell_type": "code",
   "source": [
    "url_dataset = 'https://raw.githubusercontent.com/tahahamdii/bert-finetunig/main/sentiment.csv'\n",
    "df = pd.read_csv(url_dataset)\n",
    "df"
   ],
   "id": "a40f54a096be4a79",
   "outputs": [
    {
     "data": {
      "text/plain": [
       "                                                    text  label label_name\n",
       "0                                i didnt feel humiliated      0    sadness\n",
       "1      i can go from feeling so hopeless to so damned...      0    sadness\n",
       "2       im grabbing a minute to post i feel greedy wrong      3      anger\n",
       "3      i am ever feeling nostalgic about the fireplac...      2       love\n",
       "4                                   i am feeling grouchy      3      anger\n",
       "...                                                  ...    ...        ...\n",
       "15995  i just had a very brief time in the beanbag an...      0    sadness\n",
       "15996  i am now turning and i feel pathetic that i am...      0    sadness\n",
       "15997                     i feel strong and good overall      1        joy\n",
       "15998  i feel like this was such a rude comment and i...      3      anger\n",
       "15999  i know a lot but i feel so stupid because i ca...      0    sadness\n",
       "\n",
       "[16000 rows x 3 columns]"
      ],
      "text/html": [
       "<div>\n",
       "<style scoped>\n",
       "    .dataframe tbody tr th:only-of-type {\n",
       "        vertical-align: middle;\n",
       "    }\n",
       "\n",
       "    .dataframe tbody tr th {\n",
       "        vertical-align: top;\n",
       "    }\n",
       "\n",
       "    .dataframe thead th {\n",
       "        text-align: right;\n",
       "    }\n",
       "</style>\n",
       "<table border=\"1\" class=\"dataframe\">\n",
       "  <thead>\n",
       "    <tr style=\"text-align: right;\">\n",
       "      <th></th>\n",
       "      <th>text</th>\n",
       "      <th>label</th>\n",
       "      <th>label_name</th>\n",
       "    </tr>\n",
       "  </thead>\n",
       "  <tbody>\n",
       "    <tr>\n",
       "      <th>0</th>\n",
       "      <td>i didnt feel humiliated</td>\n",
       "      <td>0</td>\n",
       "      <td>sadness</td>\n",
       "    </tr>\n",
       "    <tr>\n",
       "      <th>1</th>\n",
       "      <td>i can go from feeling so hopeless to so damned...</td>\n",
       "      <td>0</td>\n",
       "      <td>sadness</td>\n",
       "    </tr>\n",
       "    <tr>\n",
       "      <th>2</th>\n",
       "      <td>im grabbing a minute to post i feel greedy wrong</td>\n",
       "      <td>3</td>\n",
       "      <td>anger</td>\n",
       "    </tr>\n",
       "    <tr>\n",
       "      <th>3</th>\n",
       "      <td>i am ever feeling nostalgic about the fireplac...</td>\n",
       "      <td>2</td>\n",
       "      <td>love</td>\n",
       "    </tr>\n",
       "    <tr>\n",
       "      <th>4</th>\n",
       "      <td>i am feeling grouchy</td>\n",
       "      <td>3</td>\n",
       "      <td>anger</td>\n",
       "    </tr>\n",
       "    <tr>\n",
       "      <th>...</th>\n",
       "      <td>...</td>\n",
       "      <td>...</td>\n",
       "      <td>...</td>\n",
       "    </tr>\n",
       "    <tr>\n",
       "      <th>15995</th>\n",
       "      <td>i just had a very brief time in the beanbag an...</td>\n",
       "      <td>0</td>\n",
       "      <td>sadness</td>\n",
       "    </tr>\n",
       "    <tr>\n",
       "      <th>15996</th>\n",
       "      <td>i am now turning and i feel pathetic that i am...</td>\n",
       "      <td>0</td>\n",
       "      <td>sadness</td>\n",
       "    </tr>\n",
       "    <tr>\n",
       "      <th>15997</th>\n",
       "      <td>i feel strong and good overall</td>\n",
       "      <td>1</td>\n",
       "      <td>joy</td>\n",
       "    </tr>\n",
       "    <tr>\n",
       "      <th>15998</th>\n",
       "      <td>i feel like this was such a rude comment and i...</td>\n",
       "      <td>3</td>\n",
       "      <td>anger</td>\n",
       "    </tr>\n",
       "    <tr>\n",
       "      <th>15999</th>\n",
       "      <td>i know a lot but i feel so stupid because i ca...</td>\n",
       "      <td>0</td>\n",
       "      <td>sadness</td>\n",
       "    </tr>\n",
       "  </tbody>\n",
       "</table>\n",
       "<p>16000 rows × 3 columns</p>\n",
       "</div>"
      ]
     },
     "execution_count": 5,
     "metadata": {},
     "output_type": "execute_result"
    }
   ],
   "execution_count": 5
  },
  {
   "metadata": {
    "ExecuteTime": {
     "end_time": "2024-10-03T19:20:40.745127Z",
     "start_time": "2024-10-03T19:20:40.742812Z"
    }
   },
   "cell_type": "code",
   "source": [],
   "id": "ce84883aef2b00db",
   "outputs": [],
   "execution_count": 5
  },
  {
   "metadata": {},
   "cell_type": "markdown",
   "source": [
    "# Data Analysis"
   ],
   "id": "278d151dfca959a6"
  },
  {
   "metadata": {
    "ExecuteTime": {
     "end_time": "2024-10-03T19:20:40.765468Z",
     "start_time": "2024-10-03T19:20:40.745883Z"
    }
   },
   "cell_type": "code",
   "source": [
    "df.info()"
   ],
   "id": "8f975c8366573e67",
   "outputs": [
    {
     "name": "stdout",
     "output_type": "stream",
     "text": [
      "<class 'pandas.core.frame.DataFrame'>\n",
      "RangeIndex: 16000 entries, 0 to 15999\n",
      "Data columns (total 3 columns):\n",
      " #   Column      Non-Null Count  Dtype \n",
      "---  ------      --------------  ----- \n",
      " 0   text        16000 non-null  object\n",
      " 1   label       16000 non-null  int64 \n",
      " 2   label_name  16000 non-null  object\n",
      "dtypes: int64(1), object(2)\n",
      "memory usage: 375.1+ KB\n"
     ]
    }
   ],
   "execution_count": 6
  },
  {
   "metadata": {
    "ExecuteTime": {
     "end_time": "2024-10-03T19:20:40.769227Z",
     "start_time": "2024-10-03T19:20:40.766223Z"
    }
   },
   "cell_type": "code",
   "source": [],
   "id": "62102184f12ac9f4",
   "outputs": [],
   "execution_count": 6
  },
  {
   "metadata": {
    "ExecuteTime": {
     "end_time": "2024-10-03T19:20:40.778586Z",
     "start_time": "2024-10-03T19:20:40.770734Z"
    }
   },
   "cell_type": "code",
   "source": [
    "df.isnull().sum()"
   ],
   "id": "ccb8418a1750d05a",
   "outputs": [
    {
     "data": {
      "text/plain": [
       "text          0\n",
       "label         0\n",
       "label_name    0\n",
       "dtype: int64"
      ]
     },
     "execution_count": 7,
     "metadata": {},
     "output_type": "execute_result"
    }
   ],
   "execution_count": 7
  },
  {
   "metadata": {
    "ExecuteTime": {
     "end_time": "2024-10-03T19:20:40.788167Z",
     "start_time": "2024-10-03T19:20:40.780092Z"
    }
   },
   "cell_type": "code",
   "source": [
    "df['label'].value_counts()"
   ],
   "id": "2e58e8ee12a5849b",
   "outputs": [
    {
     "data": {
      "text/plain": [
       "label\n",
       "1    5362\n",
       "0    4666\n",
       "3    2159\n",
       "4    1937\n",
       "2    1304\n",
       "5     572\n",
       "Name: count, dtype: int64"
      ]
     },
     "execution_count": 8,
     "metadata": {},
     "output_type": "execute_result"
    }
   ],
   "execution_count": 8
  },
  {
   "metadata": {
    "ExecuteTime": {
     "end_time": "2024-10-03T19:20:40.989625Z",
     "start_time": "2024-10-03T19:20:40.788925Z"
    }
   },
   "cell_type": "code",
   "source": [
    "label_counts = df['label_name'].value_counts(ascending=True)\n",
    "label_counts.plot.barh()\n",
    "plt.title('Frequency of Classes')\n",
    "plt.ylabel('Emotions')\n"
   ],
   "id": "616baa65217609d",
   "outputs": [
    {
     "data": {
      "text/plain": [
       "Text(0, 0.5, 'Emotions')"
      ]
     },
     "execution_count": 9,
     "metadata": {},
     "output_type": "execute_result"
    },
    {
     "data": {
      "text/plain": [
       "<Figure size 640x480 with 1 Axes>"
      ],
      "image/png": "[encoded data removed]"
     },
     "metadata": {},
     "output_type": "display_data"
    }
   ],
   "execution_count": 9
  },
  {
   "metadata": {
    "ExecuteTime": {
     "end_time": "2024-10-03T19:20:41.040117Z",
     "start_time": "2024-10-03T19:20:40.990383Z"
    }
   },
   "cell_type": "code",
   "source": [
    "df['words per tweet'] = df['text'].str.split().apply(len)\n",
    "df"
   ],
   "id": "8cfa9be507d76918",
   "outputs": [
    {
     "data": {
      "text/plain": [
       "                                                    text  label label_name  \\\n",
       "0                                i didnt feel humiliated      0    sadness   \n",
       "1      i can go from feeling so hopeless to so damned...      0    sadness   \n",
       "2       im grabbing a minute to post i feel greedy wrong      3      anger   \n",
       "3      i am ever feeling nostalgic about the fireplac...      2       love   \n",
       "4                                   i am feeling grouchy      3      anger   \n",
       "...                                                  ...    ...        ...   \n",
       "15995  i just had a very brief time in the beanbag an...      0    sadness   \n",
       "15996  i am now turning and i feel pathetic that i am...      0    sadness   \n",
       "15997                     i feel strong and good overall      1        joy   \n",
       "15998  i feel like this was such a rude comment and i...      3      anger   \n",
       "15999  i know a lot but i feel so stupid because i ca...      0    sadness   \n",
       "\n",
       "       words per tweet  \n",
       "0                    4  \n",
       "1                   21  \n",
       "2                   10  \n",
       "3                   18  \n",
       "4                    4  \n",
       "...                ...  \n",
       "15995               24  \n",
       "15996               20  \n",
       "15997                6  \n",
       "15998               14  \n",
       "15999               15  \n",
       "\n",
       "[16000 rows x 4 columns]"
      ],
      "text/html": [
       "<div>\n",
       "<style scoped>\n",
       "    .dataframe tbody tr th:only-of-type {\n",
       "        vertical-align: middle;\n",
       "    }\n",
       "\n",
       "    .dataframe tbody tr th {\n",
       "        vertical-align: top;\n",
       "    }\n",
       "\n",
       "    .dataframe thead th {\n",
       "        text-align: right;\n",
       "    }\n",
       "</style>\n",
       "<table border=\"1\" class=\"dataframe\">\n",
       "  <thead>\n",
       "    <tr style=\"text-align: right;\">\n",
       "      <th></th>\n",
       "      <th>text</th>\n",
       "      <th>label</th>\n",
       "      <th>label_name</th>\n",
       "      <th>words per tweet</th>\n",
       "    </tr>\n",
       "  </thead>\n",
       "  <tbody>\n",
       "    <tr>\n",
       "      <th>0</th>\n",
       "      <td>i didnt feel humiliated</td>\n",
       "      <td>0</td>\n",
       "      <td>sadness</td>\n",
       "      <td>4</td>\n",
       "    </tr>\n",
       "    <tr>\n",
       "      <th>1</th>\n",
       "      <td>i can go from feeling so hopeless to so damned...</td>\n",
       "      <td>0</td>\n",
       "      <td>sadness</td>\n",
       "      <td>21</td>\n",
       "    </tr>\n",
       "    <tr>\n",
       "      <th>2</th>\n",
       "      <td>im grabbing a minute to post i feel greedy wrong</td>\n",
       "      <td>3</td>\n",
       "      <td>anger</td>\n",
       "      <td>10</td>\n",
       "    </tr>\n",
       "    <tr>\n",
       "      <th>3</th>\n",
       "      <td>i am ever feeling nostalgic about the fireplac...</td>\n",
       "      <td>2</td>\n",
       "      <td>love</td>\n",
       "      <td>18</td>\n",
       "    </tr>\n",
       "    <tr>\n",
       "      <th>4</th>\n",
       "      <td>i am feeling grouchy</td>\n",
       "      <td>3</td>\n",
       "      <td>anger</td>\n",
       "      <td>4</td>\n",
       "    </tr>\n",
       "    <tr>\n",
       "      <th>...</th>\n",
       "      <td>...</td>\n",
       "      <td>...</td>\n",
       "      <td>...</td>\n",
       "      <td>...</td>\n",
       "    </tr>\n",
       "    <tr>\n",
       "      <th>15995</th>\n",
       "      <td>i just had a very brief time in the beanbag an...</td>\n",
       "      <td>0</td>\n",
       "      <td>sadness</td>\n",
       "      <td>24</td>\n",
       "    </tr>\n",
       "    <tr>\n",
       "      <th>15996</th>\n",
       "      <td>i am now turning and i feel pathetic that i am...</td>\n",
       "      <td>0</td>\n",
       "      <td>sadness</td>\n",
       "      <td>20</td>\n",
       "    </tr>\n",
       "    <tr>\n",
       "      <th>15997</th>\n",
       "      <td>i feel strong and good overall</td>\n",
       "      <td>1</td>\n",
       "      <td>joy</td>\n",
       "      <td>6</td>\n",
       "    </tr>\n",
       "    <tr>\n",
       "      <th>15998</th>\n",
       "      <td>i feel like this was such a rude comment and i...</td>\n",
       "      <td>3</td>\n",
       "      <td>anger</td>\n",
       "      <td>14</td>\n",
       "    </tr>\n",
       "    <tr>\n",
       "      <th>15999</th>\n",
       "      <td>i know a lot but i feel so stupid because i ca...</td>\n",
       "      <td>0</td>\n",
       "      <td>sadness</td>\n",
       "      <td>15</td>\n",
       "    </tr>\n",
       "  </tbody>\n",
       "</table>\n",
       "<p>16000 rows × 4 columns</p>\n",
       "</div>"
      ]
     },
     "execution_count": 10,
     "metadata": {},
     "output_type": "execute_result"
    }
   ],
   "execution_count": 10
  },
  {
   "metadata": {
    "ExecuteTime": {
     "end_time": "2024-10-03T19:20:41.212018Z",
     "start_time": "2024-10-03T19:20:41.041625Z"
    }
   },
   "cell_type": "code",
   "source": [
    "df.boxplot(\"words per tweet\", by='label_name')"
   ],
   "id": "b4748d15a6944046",
   "outputs": [
    {
     "data": {
      "text/plain": [
       "<Axes: title={'center': 'words per tweet'}, xlabel='label_name'>"
      ]
     },
     "execution_count": 11,
     "metadata": {},
     "output_type": "execute_result"
    },
    {
     "data": {
      "text/plain": [
       "<Figure size 640x480 with 1 Axes>"
      ],
      "image/png": "[encoded data removed]"
     },
     "metadata": {},
     "output_type": "display_data"
    }
   ],
   "execution_count": 11
  },
  {
   "metadata": {},
   "cell_type": "markdown",
   "source": [],
   "id": "8cc632b2d52da136"
  },
  {
   "metadata": {},
   "cell_type": "markdown",
   "source": [
    "# Data Preparation"
   ],
   "id": "4b9854efef619c6f"
  },
  {
   "metadata": {},
   "cell_type": "markdown",
   "source": [
    "### Tokenizing Test"
   ],
   "id": "56fa961321cba701"
  },
  {
   "metadata": {
    "ExecuteTime": {
     "end_time": "2024-10-03T19:20:44.888910Z",
     "start_time": "2024-10-03T19:20:41.215778Z"
    }
   },
   "cell_type": "code",
   "source": [
    "model_ckpt = \"bert-base-uncased\"\n",
    "tokenizer = AutoTokenizer.from_pretrained(model_ckpt)"
   ],
   "id": "87cfc3e4b3bbad9c",
   "outputs": [
    {
     "name": "stderr",
     "output_type": "stream",
     "text": [
      "C:\\projects\\bert\\.venv\\Lib\\site-packages\\transformers\\tokenization_utils_base.py:1617: FutureWarning: `clean_up_tokenization_spaces` was not set. It will be set to `True` by default. This behavior will be deprecated in transformers v4.45, and will be then set to `False` by default. For more details check this issue: https://github.com/huggingface/transformers/issues/31884\n",
      "  warnings.warn(\n"
     ]
    }
   ],
   "execution_count": 12
  },
  {
   "metadata": {
    "ExecuteTime": {
     "end_time": "2024-10-03T19:20:44.895485Z",
     "start_time": "2024-10-03T19:20:44.889668Z"
    }
   },
   "cell_type": "code",
   "source": [
    "text = \"I love machne learning! Tokenization is awesome!\"\n",
    "\n",
    "encoded_text = tokenizer(text)\n",
    "print(encoded_text)"
   ],
   "id": "ce054204169697f6",
   "outputs": [
    {
     "name": "stdout",
     "output_type": "stream",
     "text": [
      "{'input_ids': [101, 1045, 2293, 24532, 2638, 4083, 999, 19204, 3989, 2003, 12476, 999, 102], 'token_type_ids': [0, 0, 0, 0, 0, 0, 0, 0, 0, 0, 0, 0, 0], 'attention_mask': [1, 1, 1, 1, 1, 1, 1, 1, 1, 1, 1, 1, 1]}\n"
     ]
    }
   ],
   "execution_count": 13
  },
  {
   "metadata": {
    "ExecuteTime": {
     "end_time": "2024-10-03T19:20:44.924876Z",
     "start_time": "2024-10-03T19:20:44.896242Z"
    }
   },
   "cell_type": "code",
   "source": [
    "tokenizer.vocab"
   ],
   "id": "37687a5cedc3c830",
   "outputs": [
    {
     "data": {
      "text/plain": [
       "{'##edging': 28002,\n",
       " 'def': 13366,\n",
       " '##ometric': 28993,\n",
       " '##mura': 16069,\n",
       " 'break': 3338,\n",
       " 'breeders': 20823,\n",
       " 'konstantin': 23989,\n",
       " 'vacant': 10030,\n",
       " 'yield': 10750,\n",
       " 'yuri': 14331,\n",
       " 'ア': 1693,\n",
       " 'dramas': 16547,\n",
       " 'lacrosse': 13488,\n",
       " 'lane': 4644,\n",
       " 'pulses': 23894,\n",
       " 'auschwitz': 24363,\n",
       " 'belmont': 17449,\n",
       " '##ச': 29919,\n",
       " '##jit': 18902,\n",
       " '##男': 30438,\n",
       " 'blaine': 20002,\n",
       " 'stroking': 14943,\n",
       " '##ม': 29951,\n",
       " 'haji': 28174,\n",
       " 'shields': 11824,\n",
       " 'citadel': 15364,\n",
       " 'horatio': 27752,\n",
       " 'skyline': 21343,\n",
       " 'slave': 6658,\n",
       " 'keyboard': 9019,\n",
       " 'serving': 3529,\n",
       " 'mating': 15100,\n",
       " '##vani': 27760,\n",
       " 'vernon': 11447,\n",
       " 'stress': 6911,\n",
       " 'miscellaneous': 25408,\n",
       " 'mega': 13164,\n",
       " 'aus': 17151,\n",
       " 'ubiquitous': 28498,\n",
       " '256': 17273,\n",
       " 'ʒ': 1138,\n",
       " 'survives': 13655,\n",
       " 'danielle': 18490,\n",
       " 'profoundly': 28089,\n",
       " 'readers': 8141,\n",
       " 'run': 2448,\n",
       " 'disqualification': 27782,\n",
       " '70th': 26934,\n",
       " 'sedan': 15134,\n",
       " '##udence': 29424,\n",
       " 'shrine': 9571,\n",
       " 'featured': 2956,\n",
       " 'goth': 25976,\n",
       " 'ultra': 11087,\n",
       " 'groundbreaking': 23222,\n",
       " 'dial': 13764,\n",
       " '##nant': 16885,\n",
       " '##ave': 10696,\n",
       " '##power': 11452,\n",
       " '##jia': 26541,\n",
       " 'infection': 8985,\n",
       " 'kenton': 25446,\n",
       " '##lateral': 28277,\n",
       " 'inhibition': 23586,\n",
       " 'nissan': 16509,\n",
       " '##დ': 29977,\n",
       " 'alias': 14593,\n",
       " 'mori': 22993,\n",
       " 'affection': 12242,\n",
       " 'proto': 15053,\n",
       " 'archived': 9749,\n",
       " '##oi': 10448,\n",
       " 'techniques': 5461,\n",
       " 'creature': 6492,\n",
       " 'anatomy': 13336,\n",
       " '##ey': 3240,\n",
       " 'trauma': 12603,\n",
       " '1882': 7131,\n",
       " 'doubt': 4797,\n",
       " 'donated': 6955,\n",
       " 'lambda': 23375,\n",
       " 'gladly': 24986,\n",
       " '##sner': 20479,\n",
       " 'gaul': 26522,\n",
       " 'oxford': 4345,\n",
       " 'creamy': 24519,\n",
       " 'intentions': 11174,\n",
       " 'mclean': 17602,\n",
       " 'passionate': 13459,\n",
       " 'leases': 29597,\n",
       " 'distinguish': 10782,\n",
       " 'bread': 7852,\n",
       " 'mathematical': 8045,\n",
       " 'flux': 19251,\n",
       " 'scissors': 25806,\n",
       " 'clauses': 24059,\n",
       " 'spirits': 8633,\n",
       " 'steelers': 15280,\n",
       " 'wakefield': 16045,\n",
       " 'winnipeg': 11093,\n",
       " '定': 1822,\n",
       " 'tri': 13012,\n",
       " '8': 1022,\n",
       " '##orro': 29459,\n",
       " 'accelerating': 29494,\n",
       " '##gil': 20142,\n",
       " 'kia': 27005,\n",
       " 'mounts': 19363,\n",
       " '[unused26]': 27,\n",
       " '##mined': 25089,\n",
       " 'shannon': 10881,\n",
       " '##sun': 19729,\n",
       " 'montana': 8124,\n",
       " '##ェ': 30223,\n",
       " 'sato': 20251,\n",
       " 'concurrent': 16483,\n",
       " 'superb': 21688,\n",
       " 'transfers': 15210,\n",
       " 'airborne': 10519,\n",
       " 'descent': 6934,\n",
       " 'greenwood': 16827,\n",
       " '##hee': 21030,\n",
       " '##cis': 22987,\n",
       " 'claire': 6249,\n",
       " 'clergy': 11646,\n",
       " 'reappeared': 23040,\n",
       " '##holz': 28094,\n",
       " 'christchurch': 15880,\n",
       " '##wine': 21924,\n",
       " '##puram': 17809,\n",
       " 'plateau': 9814,\n",
       " 'imply': 19515,\n",
       " '70': 3963,\n",
       " 'oracle': 14721,\n",
       " 'bodyguards': 25681,\n",
       " 'pendant': 23152,\n",
       " 'discipline': 9009,\n",
       " '##w': 2860,\n",
       " 'championships': 3219,\n",
       " 'corridor': 7120,\n",
       " 'and': 1998,\n",
       " 'ferrara': 28635,\n",
       " 'orchard': 15623,\n",
       " '17': 2459,\n",
       " 'collected': 5067,\n",
       " 'disagreement': 18185,\n",
       " 'francesca': 15409,\n",
       " 'domino': 23968,\n",
       " 'martin': 3235,\n",
       " '##tm': 21246,\n",
       " '[unused806]': 811,\n",
       " '##eased': 25063,\n",
       " '##ⁿ': 30080,\n",
       " 'custody': 9968,\n",
       " 'quarry': 12907,\n",
       " 'comfort': 7216,\n",
       " 'eight': 2809,\n",
       " '##₍': 30087,\n",
       " 'progresses': 22901,\n",
       " '##ylus': 18871,\n",
       " '##wt': 26677,\n",
       " 'happily': 11361,\n",
       " 'knight': 5000,\n",
       " 'melting': 13721,\n",
       " 'selected': 3479,\n",
       " 'twin': 5519,\n",
       " '1873': 7612,\n",
       " 'winner': 3453,\n",
       " 'hoop': 27669,\n",
       " '加': 1779,\n",
       " '##gli': 25394,\n",
       " 'buckle': 22853,\n",
       " 'found': 2179,\n",
       " 'unarmed': 23206,\n",
       " 'canopy': 14582,\n",
       " 'describes': 5577,\n",
       " 'dentistry': 26556,\n",
       " 'inconsistent': 20316,\n",
       " 'ordinary': 6623,\n",
       " 'ivy': 7768,\n",
       " 'suburban': 9282,\n",
       " 'millimetres': 13388,\n",
       " 'zaragoza': 25744,\n",
       " 'contrary': 10043,\n",
       " 'hats': 16717,\n",
       " 'whistle': 13300,\n",
       " 'drumming': 22980,\n",
       " 'beale': 28371,\n",
       " '1086': 28196,\n",
       " 'filippo': 28669,\n",
       " '##lva': 22144,\n",
       " 'michel': 8709,\n",
       " 'obscene': 27744,\n",
       " 'confirmation': 13964,\n",
       " 'uniforms': 11408,\n",
       " 'fresh': 4840,\n",
       " 'heritage': 4348,\n",
       " 'magic': 3894,\n",
       " 'scranton': 26123,\n",
       " 'green': 2665,\n",
       " 'sprayed': 25401,\n",
       " '00pm': 27995,\n",
       " 'analysis': 4106,\n",
       " 'impetus': 27961,\n",
       " 'governed': 9950,\n",
       " '[unused582]': 587,\n",
       " '##lge': 28875,\n",
       " 'database': 7809,\n",
       " 'sparks': 12300,\n",
       " 'alonso': 17649,\n",
       " 'soy': 25176,\n",
       " 'fastened': 24009,\n",
       " 'cannabis': 17985,\n",
       " 'runways': 24578,\n",
       " 'cambridgeshire': 24197,\n",
       " 'genoa': 15771,\n",
       " '##asco': 28187,\n",
       " 'symphonic': 18957,\n",
       " 'initiatives': 11107,\n",
       " '##hdi': 22960,\n",
       " 'britain': 3725,\n",
       " 'nfl': 5088,\n",
       " 'sergeant': 6722,\n",
       " 'и': 1188,\n",
       " '##raus': 25965,\n",
       " 'bat': 7151,\n",
       " 'delilah': 23006,\n",
       " '॥': 1345,\n",
       " '[unused58]': 59,\n",
       " 'roster': 9238,\n",
       " 'transcribed': 26223,\n",
       " 'federation': 4657,\n",
       " 'urge': 9075,\n",
       " '[unused589]': 594,\n",
       " 'alleged': 6884,\n",
       " 'bookstore': 21785,\n",
       " '[unused419]': 424,\n",
       " '2d': 14134,\n",
       " 'bishopric': 20664,\n",
       " 'exclusive': 7262,\n",
       " 'kazakh': 25907,\n",
       " 'boilers': 20412,\n",
       " 'van': 3158,\n",
       " 'endurance': 14280,\n",
       " 'blanchard': 26870,\n",
       " 'ri': 15544,\n",
       " 'swans': 26699,\n",
       " '子': 1816,\n",
       " 'kilometer': 20595,\n",
       " 'accessible': 7801,\n",
       " '##ª': 29653,\n",
       " 'schwarz': 29058,\n",
       " 'succeed': 9510,\n",
       " 'etched': 20286,\n",
       " 'distribution': 4353,\n",
       " 'ample': 20851,\n",
       " 'sheath': 21867,\n",
       " '[unused19]': 20,\n",
       " '##fighter': 20027,\n",
       " 'undeveloped': 29341,\n",
       " 'आ': 1312,\n",
       " 'sable': 23492,\n",
       " 'resigning': 24642,\n",
       " 'flick': 17312,\n",
       " '##ვ': 29979,\n",
       " 'porcelain': 17767,\n",
       " 'scents': 29254,\n",
       " '##gman': 25494,\n",
       " 'bergman': 24544,\n",
       " 'tori': 23413,\n",
       " 'gs': 28177,\n",
       " 'talking': 3331,\n",
       " 'aid': 4681,\n",
       " 'esteem': 19593,\n",
       " '##owe': 29385,\n",
       " 'como': 18609,\n",
       " 'brother': 2567,\n",
       " 'mcintyre': 24564,\n",
       " 'mode': 5549,\n",
       " 'ridden': 15230,\n",
       " 'vincenzo': 24712,\n",
       " '[unused131]': 136,\n",
       " '##te': 2618,\n",
       " 'analogue': 21800,\n",
       " 'vegetarian': 23566,\n",
       " 'inspired': 4427,\n",
       " 'toxic': 11704,\n",
       " 'weekly': 4882,\n",
       " 'cornerstone': 23354,\n",
       " '##yria': 20379,\n",
       " 'rappers': 28257,\n",
       " '##tina': 13770,\n",
       " '##por': 17822,\n",
       " 'yin': 18208,\n",
       " 'bahrain': 15195,\n",
       " 'eastwood': 24201,\n",
       " 'together': 2362,\n",
       " 'magnetic': 8060,\n",
       " 'fra': 25312,\n",
       " 'ュ': 1729,\n",
       " 'liking': 16663,\n",
       " '坂': 1803,\n",
       " '8th': 5893,\n",
       " 'crouched': 14275,\n",
       " 'counter': 4675,\n",
       " 'hampton': 11615,\n",
       " 'shone': 14707,\n",
       " '##wari': 20031,\n",
       " 'becky': 14407,\n",
       " 'firing': 7493,\n",
       " 'separated': 5459,\n",
       " 'botanical': 13194,\n",
       " 'nan': 16660,\n",
       " '##pa': 4502,\n",
       " 'illness': 7355,\n",
       " 'barrier': 8803,\n",
       " 'conqueror': 25466,\n",
       " '[unused155]': 160,\n",
       " 'bowed': 11489,\n",
       " 'boy': 2879,\n",
       " 'complexity': 11619,\n",
       " 'travelers': 15183,\n",
       " 'portraying': 17274,\n",
       " '##rage': 24449,\n",
       " '[unused679]': 684,\n",
       " 'columbia': 3996,\n",
       " 'rebellious': 22614,\n",
       " 'inflammatory': 20187,\n",
       " 'proceedings': 8931,\n",
       " '##hesion': 21471,\n",
       " 'straight': 3442,\n",
       " '2': 1016,\n",
       " 'behalf': 6852,\n",
       " 'encore': 19493,\n",
       " 'fuels': 20145,\n",
       " 'geneva': 9810,\n",
       " 'neared': 20832,\n",
       " 'posing': 20540,\n",
       " 'wildcats': 19495,\n",
       " '##rative': 18514,\n",
       " 'allotted': 23932,\n",
       " 'pleasantly': 27726,\n",
       " 'successively': 24288,\n",
       " '®': 1079,\n",
       " 'interested': 4699,\n",
       " '[unused311]': 316,\n",
       " 'attribute': 17961,\n",
       " 'bal': 28352,\n",
       " 'occupied': 4548,\n",
       " 'shimmering': 22349,\n",
       " 'instinct': 12753,\n",
       " 'spreading': 9359,\n",
       " 'aviv': 12724,\n",
       " 'mesh': 20437,\n",
       " 'putin': 22072,\n",
       " 'converts': 19884,\n",
       " 'certificate': 8196,\n",
       " 'hesse': 16399,\n",
       " 'garde': 14535,\n",
       " 'rituals': 13549,\n",
       " 'rush': 5481,\n",
       " 'vastly': 24821,\n",
       " '##ধ': 29901,\n",
       " 'clarify': 25037,\n",
       " 'maintained': 5224,\n",
       " 'mecklenburg': 22007,\n",
       " 'shivering': 19197,\n",
       " 'images': 4871,\n",
       " 'analyzed': 16578,\n",
       " '##rrigan': 28706,\n",
       " 'illustrate': 19141,\n",
       " 'intra': 26721,\n",
       " 'h₂o': 24833,\n",
       " '##幸': 30367,\n",
       " 'champaign': 28843,\n",
       " 'ය': 1404,\n",
       " '##天': 30337,\n",
       " 'prisoner': 7267,\n",
       " 'mathematicians': 29374,\n",
       " 'bertrand': 20586,\n",
       " 'sioux': 16615,\n",
       " 'ae': 29347,\n",
       " 'hubert': 15346,\n",
       " 'designing': 12697,\n",
       " 'celebrity': 8958,\n",
       " '##erina': 26052,\n",
       " 'excellence': 8012,\n",
       " '##lland': 26087,\n",
       " '##oue': 27872,\n",
       " '63': 6191,\n",
       " 'loaf': 27048,\n",
       " 'neutral': 8699,\n",
       " '##fire': 10273,\n",
       " 'enable': 9585,\n",
       " 'bot': 28516,\n",
       " 'clit': 17962,\n",
       " '江': 1897,\n",
       " 'piles': 18526,\n",
       " 'platoon': 13799,\n",
       " 'rochelle': 25649,\n",
       " 'schmidt': 12940,\n",
       " '##₹': 30104,\n",
       " 'duct': 23245,\n",
       " '##ria': 4360,\n",
       " '##umble': 26607,\n",
       " 'canberra': 13107,\n",
       " '…': 1529,\n",
       " '##udy': 20217,\n",
       " 'palestine': 8976,\n",
       " '##ery': 7301,\n",
       " '##olis': 20872,\n",
       " 'wan': 14071,\n",
       " 'enlarged': 11792,\n",
       " 'customs': 8205,\n",
       " 'stealth': 22150,\n",
       " 'seismic': 22630,\n",
       " 'crews': 10604,\n",
       " '##ity': 3012,\n",
       " 'pointless': 23100,\n",
       " 'roughly': 5560,\n",
       " 'letterman': 26593,\n",
       " 'eyelids': 16544,\n",
       " 'plans': 3488,\n",
       " 'part': 2112,\n",
       " '[unused45]': 46,\n",
       " '##vington': 21827,\n",
       " 'narrowly': 11866,\n",
       " 'brandon': 8825,\n",
       " 'dresden': 12983,\n",
       " 'covert': 19813,\n",
       " '##icle': 25128,\n",
       " 'otherwise': 4728,\n",
       " '##gy': 6292,\n",
       " 'ץ': 1262,\n",
       " 'fall': 2991,\n",
       " 'residents': 3901,\n",
       " 'regal': 21279,\n",
       " 'saddle': 12279,\n",
       " 'tractor': 16358,\n",
       " 'origins': 7321,\n",
       " 'norwegian': 5046,\n",
       " 'grounded': 16764,\n",
       " '##$': 29615,\n",
       " 'classify': 26268,\n",
       " 'pattern': 5418,\n",
       " '##食': 30504,\n",
       " '##世': 30271,\n",
       " 'imperialism': 28087,\n",
       " 'fashioned': 13405,\n",
       " 'nassau': 14646,\n",
       " 'terrain': 9291,\n",
       " 'setting': 4292,\n",
       " 'calhoun': 22982,\n",
       " 'frost': 10097,\n",
       " 'headmaster': 16296,\n",
       " 'risking': 26875,\n",
       " 'opens': 7480,\n",
       " 'rage': 7385,\n",
       " 'tremendous': 14388,\n",
       " 'pathetic': 17203,\n",
       " 'concert': 4164,\n",
       " 'sane': 22856,\n",
       " 'contemplated': 23133,\n",
       " 'noise': 5005,\n",
       " '##llus': 20159,\n",
       " '≥': 1609,\n",
       " '1980': 3150,\n",
       " '194': 19955,\n",
       " '##ᅦ': 30009,\n",
       " '##い': 30173,\n",
       " 'mage': 17454,\n",
       " 'functioned': 20903,\n",
       " 'percy': 11312,\n",
       " 'staying': 6595,\n",
       " 'wardrobe': 17828,\n",
       " 'resemble': 13014,\n",
       " 'tanner': 12780,\n",
       " 'lithuania': 9838,\n",
       " 'propose': 16599,\n",
       " 'bohemian': 18063,\n",
       " 'こ': 1655,\n",
       " 'chairs': 8397,\n",
       " 'presentations': 18216,\n",
       " 'tc': 22975,\n",
       " 'strict': 9384,\n",
       " 'extensions': 14305,\n",
       " 'qb': 26171,\n",
       " '##gon': 7446,\n",
       " 'events': 2824,\n",
       " 'dub': 12931,\n",
       " 'ecological': 12231,\n",
       " 'aren': 4995,\n",
       " 'proficient': 27029,\n",
       " 'immediate': 6234,\n",
       " 'camden': 13267,\n",
       " 'sights': 15925,\n",
       " '##tor': 4263,\n",
       " '##ishly': 19983,\n",
       " '##kers': 11451,\n",
       " 'thicker': 19638,\n",
       " '##hwa': 18663,\n",
       " 'mcguire': 23872,\n",
       " 'landed': 5565,\n",
       " 'marcia': 22548,\n",
       " 'maid': 10850,\n",
       " '##zione': 20574,\n",
       " '##lak': 23451,\n",
       " 'actual': 5025,\n",
       " 'icao': 18055,\n",
       " 'pipes': 12432,\n",
       " 'dissatisfaction': 28237,\n",
       " 'ए': 1314,\n",
       " 'beacon': 14400,\n",
       " '##志': 30377,\n",
       " 'optimization': 20600,\n",
       " '##viere': 27087,\n",
       " 'อ': 1421,\n",
       " 'lone': 10459,\n",
       " 'retreated': 11672,\n",
       " 'croft': 28983,\n",
       " 'models': 4275,\n",
       " 'sharing': 6631,\n",
       " 'maynard': 22130,\n",
       " '##oko': 16366,\n",
       " '##tadt': 18808,\n",
       " 'empirical': 17537,\n",
       " 'just': 2074,\n",
       " '##aud': 19513,\n",
       " '312': 21036,\n",
       " 'montrose': 24990,\n",
       " 'disorder': 8761,\n",
       " '1990': 2901,\n",
       " 'heroin': 19690,\n",
       " 'yang': 8675,\n",
       " 'venezuelan': 15332,\n",
       " '##iferous': 23930,\n",
       " 'exiled': 14146,\n",
       " 'scorer': 10835,\n",
       " 'sailing': 8354,\n",
       " 'rotating': 13618,\n",
       " '##taka': 28412,\n",
       " 'complementary': 21053,\n",
       " '`': 1036,\n",
       " 'replies': 14054,\n",
       " 'here': 2182,\n",
       " 'rumbled': 22257,\n",
       " 'fuck': 6616,\n",
       " 'laboratory': 5911,\n",
       " 'magnitude': 10194,\n",
       " 'cooperation': 6792,\n",
       " 'homage': 14822,\n",
       " 'dreamer': 24726,\n",
       " 'judging': 13325,\n",
       " '##lav': 14973,\n",
       " '##uno': 27819,\n",
       " '1850': 7973,\n",
       " 'hove': 25215,\n",
       " '$': 1002,\n",
       " 'konrad': 22958,\n",
       " 'sap': 20066,\n",
       " 'wes': 14008,\n",
       " 'ட': 1384,\n",
       " 'so': 2061,\n",
       " 'northward': 17192,\n",
       " 'albany': 10283,\n",
       " 'tempest': 22553,\n",
       " 'far': 2521,\n",
       " 'patna': 29565,\n",
       " 'rib': 19395,\n",
       " 'mainland': 8240,\n",
       " 'hacked': 28719,\n",
       " '##կ': 29774,\n",
       " 'routed': 19578,\n",
       " 'nominally': 24207,\n",
       " 'aluminum': 13061,\n",
       " 'gospel': 8036,\n",
       " 'restaurant': 4825,\n",
       " '##」': 30168,\n",
       " 'isa': 18061,\n",
       " 'business': 2449,\n",
       " '##eki': 26576,\n",
       " 'pain': 3255,\n",
       " '##app': 29098,\n",
       " 'smoothly': 15299,\n",
       " 'wharf': 16435,\n",
       " '##フ': 30246,\n",
       " 'efficient': 8114,\n",
       " 'gulped': 25411,\n",
       " 'tends': 12102,\n",
       " 'verity': 22178,\n",
       " 'acronym': 20137,\n",
       " 'bills': 8236,\n",
       " 'caden': 23600,\n",
       " '}': 1065,\n",
       " 'excluding': 13343,\n",
       " 'jorge': 10853,\n",
       " 'masjid': 27779,\n",
       " 'sculpted': 19921,\n",
       " 'residues': 22644,\n",
       " 'she': 2016,\n",
       " '[unused244]': 249,\n",
       " 'crowley': 20748,\n",
       " '##zier': 21548,\n",
       " 'bargaining': 21990,\n",
       " 'reduced': 4359,\n",
       " 'panted': 28149,\n",
       " 'jase': 18626,\n",
       " 'juliette': 24696,\n",
       " 'articulated': 20742,\n",
       " 'spruce': 19893,\n",
       " 'wolverhampton': 20085,\n",
       " 'conservative': 4603,\n",
       " 'pushing': 6183,\n",
       " '##阝': 30496,\n",
       " 'accidents': 13436,\n",
       " '##ray': 9447,\n",
       " '[unused368]': 373,\n",
       " '[unused148]': 153,\n",
       " 'bonuses': 29563,\n",
       " 'underwater': 11564,\n",
       " '##ulla': 22187,\n",
       " 'whoa': 23281,\n",
       " '##gai': 23805,\n",
       " 'percussion': 6333,\n",
       " 'ismail': 19214,\n",
       " '343': 27810,\n",
       " 'substitutes': 29200,\n",
       " 'bastard': 8444,\n",
       " 'stern': 8665,\n",
       " '##ʒ': 29704,\n",
       " 'radiating': 23229,\n",
       " 'priestess': 27677,\n",
       " 'cues': 23391,\n",
       " 'timor': 19746,\n",
       " 'pueblo': 18273,\n",
       " '##tails': 22081,\n",
       " '[unused376]': 381,\n",
       " 'depicting': 10775,\n",
       " 'garrison': 8427,\n",
       " 'range': 2846,\n",
       " 'helen': 6330,\n",
       " '315': 22904,\n",
       " 'magical': 8687,\n",
       " 'belinda': 24574,\n",
       " '##chaft': 29043,\n",
       " '1784': 16496,\n",
       " 'compelling': 17075,\n",
       " '##turn': 22299,\n",
       " 'naturalized': 27558,\n",
       " 'genevieve': 20245,\n",
       " '##enna': 24397,\n",
       " 'montevideo': 22460,\n",
       " 'anti': 3424,\n",
       " 'gesture': 9218,\n",
       " 'rhapsody': 29395,\n",
       " 'tumors': 21434,\n",
       " 'pursued': 9505,\n",
       " '1641': 25702,\n",
       " 'claws': 10702,\n",
       " 'biceps': 27947,\n",
       " 'corporations': 11578,\n",
       " 'roofed': 26080,\n",
       " 'heated': 9685,\n",
       " '1848': 7993,\n",
       " '##地': 30328,\n",
       " 'provided': 3024,\n",
       " 'cleared': 5985,\n",
       " 'tran': 25283,\n",
       " 'deluxe': 15203,\n",
       " 'programmers': 28547,\n",
       " '##ille': 10484,\n",
       " '##lty': 24228,\n",
       " '##test': 22199,\n",
       " '##rove': 17597,\n",
       " '西': 1947,\n",
       " '##ہ': 29845,\n",
       " '##pack': 23947,\n",
       " 'endeavour': 26911,\n",
       " 'pearce': 19560,\n",
       " 'ethernet': 26110,\n",
       " 'literary': 4706,\n",
       " 'ultraviolet': 26299,\n",
       " 'yunnan': 21607,\n",
       " '軍': 1955,\n",
       " 'ordnance': 14445,\n",
       " '##table': 10880,\n",
       " 'passive': 13135,\n",
       " 'demo': 9703,\n",
       " '##ium': 5007,\n",
       " 'cal': 10250,\n",
       " 'remarked': 10783,\n",
       " 'pushes': 13956,\n",
       " 'quad': 17718,\n",
       " 'bc': 4647,\n",
       " '##hood': 9021,\n",
       " '##rky': 15952,\n",
       " 'nico': 19332,\n",
       " 'turkic': 22926,\n",
       " 'canada': 2710,\n",
       " 'dod': 26489,\n",
       " 'gunnery': 27919,\n",
       " 'verified': 20119,\n",
       " 'glendale': 27649,\n",
       " '##grass': 19673,\n",
       " 'vhs': 17550,\n",
       " 'time': 2051,\n",
       " '##lington': 18722,\n",
       " 'tanker': 20135,\n",
       " 'fronts': 21430,\n",
       " 'antwerp': 14003,\n",
       " 'greenberg': 24190,\n",
       " 'boutique': 24611,\n",
       " 'successes': 14152,\n",
       " 'oregon': 5392,\n",
       " 'congenital': 27480,\n",
       " '##nde': 13629,\n",
       " '##stock': 14758,\n",
       " 'vehicle': 4316,\n",
       " 'communications': 4806,\n",
       " '##et': 3388,\n",
       " 'derivatives': 16942,\n",
       " 'gloria': 10778,\n",
       " 'median': 3991,\n",
       " 'sacred': 6730,\n",
       " '##pw': 28400,\n",
       " 'jing': 21536,\n",
       " '##ros': 7352,\n",
       " '[unused509]': 514,\n",
       " 'happening': 6230,\n",
       " 'christine': 10941,\n",
       " 'considerably': 9839,\n",
       " '[unused115]': 120,\n",
       " 'silva': 11183,\n",
       " '##ibly': 17296,\n",
       " 'estrada': 26482,\n",
       " 'cycling': 9670,\n",
       " 'powers': 4204,\n",
       " 'proved': 4928,\n",
       " '##oku': 21940,\n",
       " 'bounds': 19202,\n",
       " 'cop': 8872,\n",
       " 'arrives': 8480,\n",
       " 'denise': 15339,\n",
       " 'juliet': 13707,\n",
       " 'mcdowell': 25005,\n",
       " 'single': 2309,\n",
       " 'visibility': 16476,\n",
       " 'websites': 11744,\n",
       " 'twentieth': 9086,\n",
       " '290': 17222,\n",
       " '##oso': 19137,\n",
       " 'tandem': 18231,\n",
       " 'ahl': 18347,\n",
       " '##rkin': 26891,\n",
       " '##rup': 21531,\n",
       " 'backbone': 21505,\n",
       " 'immune': 11311,\n",
       " '##ₙ': 19110,\n",
       " 'sutherland': 14274,\n",
       " '##kle': 19099,\n",
       " 'cooke': 16546,\n",
       " 'landlord': 18196,\n",
       " 'military': 2510,\n",
       " '##mina': 22311,\n",
       " 'charter': 6111,\n",
       " '##ator': 8844,\n",
       " 'condemn': 28887,\n",
       " '##ville': 3077,\n",
       " 'dimensional': 8789,\n",
       " 'explorer': 10566,\n",
       " 'mandela': 26887,\n",
       " 'horse': 3586,\n",
       " 'amplifiers': 28633,\n",
       " 'bulge': 23708,\n",
       " 'fence': 8638,\n",
       " '##bahn': 16052,\n",
       " 'settlers': 7322,\n",
       " '##lative': 26255,\n",
       " '##ছ': 29893,\n",
       " '1906': 5518,\n",
       " 'foil': 17910,\n",
       " 'squash': 18794,\n",
       " 'supplement': 12448,\n",
       " 'illumination': 21203,\n",
       " 'ives': 23945,\n",
       " 'apparel': 26278,\n",
       " '##0': 2692,\n",
       " 'relegation': 9591,\n",
       " 'sentiment': 15792,\n",
       " 'poured': 8542,\n",
       " 'slid': 4934,\n",
       " 'rational': 11581,\n",
       " '##sable': 19150,\n",
       " 'kobe': 24113,\n",
       " '##ditional': 27064,\n",
       " 'wizards': 16657,\n",
       " 'worried': 5191,\n",
       " 'experiment': 7551,\n",
       " 'scalp': 21065,\n",
       " 'fusion': 10077,\n",
       " 'escalated': 26814,\n",
       " 'neither': 4445,\n",
       " 'grandson': 7631,\n",
       " '##kai': 11151,\n",
       " 'consortium': 12360,\n",
       " '##rth': 15265,\n",
       " '##kh': 10023,\n",
       " 'termed': 12061,\n",
       " 'item': 8875,\n",
       " 'श': 1336,\n",
       " 'sheng': 25981,\n",
       " 'walked': 2939,\n",
       " 'structural': 8332,\n",
       " '128': 11899,\n",
       " '##xton': 14226,\n",
       " '##bm': 25526,\n",
       " '##post': 19894,\n",
       " 'horst': 28565,\n",
       " 'shepard': 22189,\n",
       " 'taylor': 4202,\n",
       " 'commencement': 20561,\n",
       " 'ɣ': 1117,\n",
       " 'pamphlet': 19899,\n",
       " '##uca': 18100,\n",
       " 'football': 2374,\n",
       " '##oe': 8913,\n",
       " 'thames': 11076,\n",
       " '∅': 1593,\n",
       " '[unused909]': 914,\n",
       " 'liquidation': 28763,\n",
       " '60th': 20928,\n",
       " 'gunslinger': 29274,\n",
       " 'mandates': 25979,\n",
       " 'rodeo': 18936,\n",
       " 'autonomy': 12645,\n",
       " 'entrepreneurship': 20213,\n",
       " 'educated': 5161,\n",
       " 'marquette': 24223,\n",
       " 'thirds': 12263,\n",
       " 'ف': 1291,\n",
       " 'brian': 4422,\n",
       " 'otto': 8064,\n",
       " 'sophia': 9665,\n",
       " 'colossal': 29523,\n",
       " 'mari': 16266,\n",
       " 'pirates': 8350,\n",
       " 'devoid': 22808,\n",
       " 'psalm': 22728,\n",
       " 'vocabulary': 16188,\n",
       " 'accumulated': 14830,\n",
       " 'adulthood': 20480,\n",
       " 'simulated': 23599,\n",
       " 'suspected': 6878,\n",
       " 'roads': 4925,\n",
       " 'dissemination': 28170,\n",
       " 'fraud': 9861,\n",
       " 'multitude': 20889,\n",
       " 'drafting': 21168,\n",
       " 'muir': 23110,\n",
       " 'coop': 21859,\n",
       " 'drake': 7867,\n",
       " '99': 5585,\n",
       " '##len': 7770,\n",
       " 'illustrates': 24899,\n",
       " '##》': 30166,\n",
       " '##leen': 24129,\n",
       " 'playhouse': 17408,\n",
       " 'investigative': 15025,\n",
       " '##н': 18947,\n",
       " '##cene': 17968,\n",
       " 'broadway': 5934,\n",
       " 'cup': 2452,\n",
       " 'gordon': 5146,\n",
       " 'utterly': 12580,\n",
       " 'johor': 25268,\n",
       " 'frankenstein': 22478,\n",
       " 'sculptor': 10160,\n",
       " '##ais': 15593,\n",
       " 'conviction': 10652,\n",
       " 'wreath': 29586,\n",
       " '[unused9]': 10,\n",
       " 'aquatics': 26649,\n",
       " 'chasing': 11777,\n",
       " '##ᅳ': 30017,\n",
       " '州': 1836,\n",
       " 'praises': 27128,\n",
       " 'forge': 15681,\n",
       " 'munster': 11348,\n",
       " 'transmitter': 11659,\n",
       " 'burnett': 13829,\n",
       " 'piccolo': 29368,\n",
       " 'hurdle': 27630,\n",
       " 'replaced': 2999,\n",
       " 'eternal': 10721,\n",
       " 'translate': 17637,\n",
       " 'resin': 24604,\n",
       " 'olaf': 20514,\n",
       " 'hooker': 17074,\n",
       " 'lobby': 9568,\n",
       " 'concurrency': 24154,\n",
       " 'costello': 21015,\n",
       " 'frankie': 12784,\n",
       " 'fairchild': 24258,\n",
       " 'antigua': 26023,\n",
       " 'pune': 16920,\n",
       " '三': 1741,\n",
       " 'tempered': 22148,\n",
       " 'veteran': 8003,\n",
       " '##agger': 27609,\n",
       " '##ald': 19058,\n",
       " 'creep': 19815,\n",
       " 'affiliated': 6989,\n",
       " '##ach': 6776,\n",
       " 'annexed': 13291,\n",
       " 'steal': 8954,\n",
       " 'protein': 5250,\n",
       " 'cambrian': 29228,\n",
       " '137': 14989,\n",
       " 'messaging': 24732,\n",
       " 'arms': 2608,\n",
       " 'gear': 6718,\n",
       " 'pinyin': 9973,\n",
       " '##hani': 23573,\n",
       " 'zip': 14101,\n",
       " 'persons': 5381,\n",
       " 'brunette': 27261,\n",
       " 'estadio': 14143,\n",
       " '##75': 23352,\n",
       " '##anto': 21634,\n",
       " '##dder': 20791,\n",
       " 'nadu': 10703,\n",
       " 'such': 2107,\n",
       " 'sterile': 25403,\n",
       " '[unused603]': 608,\n",
       " 'whisper': 7204,\n",
       " 'sudden': 5573,\n",
       " 'manor': 6952,\n",
       " '[unused435]': 440,\n",
       " '##hoot': 23416,\n",
       " 'alvaro': 24892,\n",
       " 'endorsed': 11763,\n",
       " 'epithet': 19626,\n",
       " '##b': 2497,\n",
       " '##c': 2278,\n",
       " '[unused167]': 172,\n",
       " 'cheshire': 13789,\n",
       " '##bar': 8237,\n",
       " 'heinrich': 10952,\n",
       " 'ponder': 29211,\n",
       " 'rhodesia': 20340,\n",
       " 'smell': 5437,\n",
       " 'ɲ': 1123,\n",
       " '1912': 4878,\n",
       " 'folk': 5154,\n",
       " 'viper': 17947,\n",
       " 'grabbing': 9775,\n",
       " '書': 1871,\n",
       " 'backed': 6153,\n",
       " 'fictitious': 23577,\n",
       " 'how': 2129,\n",
       " 'rooted': 15685,\n",
       " 'gases': 15865,\n",
       " 'paterson': 19162,\n",
       " 'boiled': 17020,\n",
       " 'exaggerated': 16903,\n",
       " 'forgiveness': 17213,\n",
       " 'crowned': 10249,\n",
       " 'gustavo': 24801,\n",
       " 'prequel': 28280,\n",
       " '##ை': 29935,\n",
       " 'clears': 28837,\n",
       " 'equipment': 3941,\n",
       " 'hem': 19610,\n",
       " '##ault': 23505,\n",
       " 'gregg': 18281,\n",
       " '##roller': 26611,\n",
       " 'vet': 29525,\n",
       " '##path': 15069,\n",
       " 'coronation': 12773,\n",
       " 'nicely': 19957,\n",
       " 'reliefs': 27670,\n",
       " '##45': 19961,\n",
       " 'divert': 27345,\n",
       " '1986': 3069,\n",
       " '##plify': 28250,\n",
       " 'biological': 6897,\n",
       " 'gown': 11739,\n",
       " 'motif': 16226,\n",
       " 'librarian': 13850,\n",
       " '不': 1744,\n",
       " 'kamal': 21911,\n",
       " 'unanimously': 15645,\n",
       " 'attic': 14832,\n",
       " 'trousers': 15292,\n",
       " 'appearances': 3922,\n",
       " 'fantastic': 10392,\n",
       " '##gingly': 28392,\n",
       " '##sham': 21010,\n",
       " '##ens': 6132,\n",
       " 'besieged': 17923,\n",
       " ...}"
      ]
     },
     "execution_count": 14,
     "metadata": {},
     "output_type": "execute_result"
    }
   ],
   "execution_count": 14
  },
  {
   "metadata": {
    "ExecuteTime": {
     "end_time": "2024-10-03T19:20:44.942138Z",
     "start_time": "2024-10-03T19:20:44.925632Z"
    }
   },
   "cell_type": "code",
   "source": [
    "len(tokenizer.vocab)"
   ],
   "id": "ccda00564b9ce8a9",
   "outputs": [
    {
     "data": {
      "text/plain": [
       "30522"
      ]
     },
     "execution_count": 15,
     "metadata": {},
     "output_type": "execute_result"
    }
   ],
   "execution_count": 15
  },
  {
   "metadata": {},
   "cell_type": "markdown",
   "source": [
    "## Data Loader and Train Test Split"
   ],
   "id": "ea4ab6a2a7031de0"
  },
  {
   "metadata": {
    "ExecuteTime": {
     "end_time": "2024-10-03T19:20:44.952114Z",
     "start_time": "2024-10-03T19:20:44.943644Z"
    }
   },
   "cell_type": "code",
   "source": [
    "df"
   ],
   "id": "7e9bb5d7e104a8bc",
   "outputs": [
    {
     "data": {
      "text/plain": [
       "                                                    text  label label_name  \\\n",
       "0                                i didnt feel humiliated      0    sadness   \n",
       "1      i can go from feeling so hopeless to so damned...      0    sadness   \n",
       "2       im grabbing a minute to post i feel greedy wrong      3      anger   \n",
       "3      i am ever feeling nostalgic about the fireplac...      2       love   \n",
       "4                                   i am feeling grouchy      3      anger   \n",
       "...                                                  ...    ...        ...   \n",
       "15995  i just had a very brief time in the beanbag an...      0    sadness   \n",
       "15996  i am now turning and i feel pathetic that i am...      0    sadness   \n",
       "15997                     i feel strong and good overall      1        joy   \n",
       "15998  i feel like this was such a rude comment and i...      3      anger   \n",
       "15999  i know a lot but i feel so stupid because i ca...      0    sadness   \n",
       "\n",
       "       words per tweet  \n",
       "0                    4  \n",
       "1                   21  \n",
       "2                   10  \n",
       "3                   18  \n",
       "4                    4  \n",
       "...                ...  \n",
       "15995               24  \n",
       "15996               20  \n",
       "15997                6  \n",
       "15998               14  \n",
       "15999               15  \n",
       "\n",
       "[16000 rows x 4 columns]"
      ],
      "text/html": [
       "<div>\n",
       "<style scoped>\n",
       "    .dataframe tbody tr th:only-of-type {\n",
       "        vertical-align: middle;\n",
       "    }\n",
       "\n",
       "    .dataframe tbody tr th {\n",
       "        vertical-align: top;\n",
       "    }\n",
       "\n",
       "    .dataframe thead th {\n",
       "        text-align: right;\n",
       "    }\n",
       "</style>\n",
       "<table border=\"1\" class=\"dataframe\">\n",
       "  <thead>\n",
       "    <tr style=\"text-align: right;\">\n",
       "      <th></th>\n",
       "      <th>text</th>\n",
       "      <th>label</th>\n",
       "      <th>label_name</th>\n",
       "      <th>words per tweet</th>\n",
       "    </tr>\n",
       "  </thead>\n",
       "  <tbody>\n",
       "    <tr>\n",
       "      <th>0</th>\n",
       "      <td>i didnt feel humiliated</td>\n",
       "      <td>0</td>\n",
       "      <td>sadness</td>\n",
       "      <td>4</td>\n",
       "    </tr>\n",
       "    <tr>\n",
       "      <th>1</th>\n",
       "      <td>i can go from feeling so hopeless to so damned...</td>\n",
       "      <td>0</td>\n",
       "      <td>sadness</td>\n",
       "      <td>21</td>\n",
       "    </tr>\n",
       "    <tr>\n",
       "      <th>2</th>\n",
       "      <td>im grabbing a minute to post i feel greedy wrong</td>\n",
       "      <td>3</td>\n",
       "      <td>anger</td>\n",
       "      <td>10</td>\n",
       "    </tr>\n",
       "    <tr>\n",
       "      <th>3</th>\n",
       "      <td>i am ever feeling nostalgic about the fireplac...</td>\n",
       "      <td>2</td>\n",
       "      <td>love</td>\n",
       "      <td>18</td>\n",
       "    </tr>\n",
       "    <tr>\n",
       "      <th>4</th>\n",
       "      <td>i am feeling grouchy</td>\n",
       "      <td>3</td>\n",
       "      <td>anger</td>\n",
       "      <td>4</td>\n",
       "    </tr>\n",
       "    <tr>\n",
       "      <th>...</th>\n",
       "      <td>...</td>\n",
       "      <td>...</td>\n",
       "      <td>...</td>\n",
       "      <td>...</td>\n",
       "    </tr>\n",
       "    <tr>\n",
       "      <th>15995</th>\n",
       "      <td>i just had a very brief time in the beanbag an...</td>\n",
       "      <td>0</td>\n",
       "      <td>sadness</td>\n",
       "      <td>24</td>\n",
       "    </tr>\n",
       "    <tr>\n",
       "      <th>15996</th>\n",
       "      <td>i am now turning and i feel pathetic that i am...</td>\n",
       "      <td>0</td>\n",
       "      <td>sadness</td>\n",
       "      <td>20</td>\n",
       "    </tr>\n",
       "    <tr>\n",
       "      <th>15997</th>\n",
       "      <td>i feel strong and good overall</td>\n",
       "      <td>1</td>\n",
       "      <td>joy</td>\n",
       "      <td>6</td>\n",
       "    </tr>\n",
       "    <tr>\n",
       "      <th>15998</th>\n",
       "      <td>i feel like this was such a rude comment and i...</td>\n",
       "      <td>3</td>\n",
       "      <td>anger</td>\n",
       "      <td>14</td>\n",
       "    </tr>\n",
       "    <tr>\n",
       "      <th>15999</th>\n",
       "      <td>i know a lot but i feel so stupid because i ca...</td>\n",
       "      <td>0</td>\n",
       "      <td>sadness</td>\n",
       "      <td>15</td>\n",
       "    </tr>\n",
       "  </tbody>\n",
       "</table>\n",
       "<p>16000 rows × 4 columns</p>\n",
       "</div>"
      ]
     },
     "execution_count": 16,
     "metadata": {},
     "output_type": "execute_result"
    }
   ],
   "execution_count": 16
  },
  {
   "metadata": {
    "ExecuteTime": {
     "end_time": "2024-10-03T19:20:44.980650Z",
     "start_time": "2024-10-03T19:20:44.953623Z"
    }
   },
   "cell_type": "code",
   "source": [
    "train, test = train_test_split(df, test_size=0.3, stratify=df['label_name'])\n",
    "test, validation = train_test_split(test, test_size=1/3, stratify=test['label_name'])"
   ],
   "id": "249f2fbfbe3807e9",
   "outputs": [],
   "execution_count": 17
  },
  {
   "metadata": {
    "ExecuteTime": {
     "end_time": "2024-10-03T19:20:44.985772Z",
     "start_time": "2024-10-03T19:20:44.982156Z"
    }
   },
   "cell_type": "code",
   "source": [
    "print(train.shape)\n",
    "print(test.shape)\n",
    "print(validation.shape)"
   ],
   "id": "57639047b5b02f59",
   "outputs": [
    {
     "name": "stdout",
     "output_type": "stream",
     "text": [
      "(11200, 4)\n",
      "(3200, 4)\n",
      "(1600, 4)\n"
     ]
    }
   ],
   "execution_count": 18
  },
  {
   "metadata": {
    "ExecuteTime": {
     "end_time": "2024-10-03T19:20:45.067682Z",
     "start_time": "2024-10-03T19:20:44.987297Z"
    }
   },
   "cell_type": "code",
   "source": [
    "dataset = DatasetDict(\n",
    "    {\n",
    "        'train': Dataset.from_pandas(train, preserve_index=False),\n",
    "        'test': Dataset.from_pandas(test, preserve_index=False),\n",
    "        'validation': Dataset.from_pandas(validation, preserve_index=False)\n",
    "    }\n",
    ")\n",
    "\n",
    "dataset"
   ],
   "id": "9702b4ceb6fe1145",
   "outputs": [
    {
     "data": {
      "text/plain": [
       "DatasetDict({\n",
       "    train: Dataset({\n",
       "        features: ['text', 'label', 'label_name', 'words per tweet'],\n",
       "        num_rows: 11200\n",
       "    })\n",
       "    test: Dataset({\n",
       "        features: ['text', 'label', 'label_name', 'words per tweet'],\n",
       "        num_rows: 3200\n",
       "    })\n",
       "    validation: Dataset({\n",
       "        features: ['text', 'label', 'label_name', 'words per tweet'],\n",
       "        num_rows: 1600\n",
       "    })\n",
       "})"
      ]
     },
     "execution_count": 19,
     "metadata": {},
     "output_type": "execute_result"
    }
   ],
   "execution_count": 19
  },
  {
   "metadata": {},
   "cell_type": "markdown",
   "source": [
    "\n",
    "#model buildding"
   ],
   "id": "88829c3cb6b4fe2d"
  },
  {
   "metadata": {},
   "cell_type": "markdown",
   "source": [
    "# Model Building"
   ],
   "id": "db53c409d2bffdf0"
  },
  {
   "metadata": {
    "ExecuteTime": {
     "end_time": "2024-10-03T19:20:47.074764Z",
     "start_time": "2024-10-03T19:20:45.068436Z"
    }
   },
   "cell_type": "code",
   "source": [
    "model= AutoModel.from_pretrained(model_ckpt)"
   ],
   "id": "89ae6ff78ba57498",
   "outputs": [],
   "execution_count": 20
  },
  {
   "metadata": {
    "ExecuteTime": {
     "end_time": "2024-10-03T19:20:47.081564Z",
     "start_time": "2024-10-03T19:20:47.075520Z"
    }
   },
   "cell_type": "code",
   "source": [
    "model"
   ],
   "id": "6a8f09cff78a99e3",
   "outputs": [
    {
     "data": {
      "text/plain": [
       "BertModel(\n",
       "  (embeddings): BertEmbeddings(\n",
       "    (word_embeddings): Embedding(30522, 768, padding_idx=0)\n",
       "    (position_embeddings): Embedding(512, 768)\n",
       "    (token_type_embeddings): Embedding(2, 768)\n",
       "    (LayerNorm): LayerNorm((768,), eps=1e-12, elementwise_affine=True)\n",
       "    (dropout): Dropout(p=0.1, inplace=False)\n",
       "  )\n",
       "  (encoder): BertEncoder(\n",
       "    (layer): ModuleList(\n",
       "      (0-11): 12 x BertLayer(\n",
       "        (attention): BertAttention(\n",
       "          (self): BertSdpaSelfAttention(\n",
       "            (query): Linear(in_features=768, out_features=768, bias=True)\n",
       "            (key): Linear(in_features=768, out_features=768, bias=True)\n",
       "            (value): Linear(in_features=768, out_features=768, bias=True)\n",
       "            (dropout): Dropout(p=0.1, inplace=False)\n",
       "          )\n",
       "          (output): BertSelfOutput(\n",
       "            (dense): Linear(in_features=768, out_features=768, bias=True)\n",
       "            (LayerNorm): LayerNorm((768,), eps=1e-12, elementwise_affine=True)\n",
       "            (dropout): Dropout(p=0.1, inplace=False)\n",
       "          )\n",
       "        )\n",
       "        (intermediate): BertIntermediate(\n",
       "          (dense): Linear(in_features=768, out_features=3072, bias=True)\n",
       "          (intermediate_act_fn): GELUActivation()\n",
       "        )\n",
       "        (output): BertOutput(\n",
       "          (dense): Linear(in_features=3072, out_features=768, bias=True)\n",
       "          (LayerNorm): LayerNorm((768,), eps=1e-12, elementwise_affine=True)\n",
       "          (dropout): Dropout(p=0.1, inplace=False)\n",
       "        )\n",
       "      )\n",
       "    )\n",
       "  )\n",
       "  (pooler): BertPooler(\n",
       "    (dense): Linear(in_features=768, out_features=768, bias=True)\n",
       "    (activation): Tanh()\n",
       "  )\n",
       ")"
      ]
     },
     "execution_count": 21,
     "metadata": {},
     "output_type": "execute_result"
    }
   ],
   "execution_count": 21
  },
  {
   "metadata": {
    "ExecuteTime": {
     "end_time": "2024-10-03T19:20:47.087077Z",
     "start_time": "2024-10-03T19:20:47.083069Z"
    }
   },
   "cell_type": "code",
   "source": [
    "model.config.architectures"
   ],
   "id": "b7c2a51887298155",
   "outputs": [
    {
     "data": {
      "text/plain": [
       "['BertForMaskedLM']"
      ]
     },
     "execution_count": 22,
     "metadata": {},
     "output_type": "execute_result"
    }
   ],
   "execution_count": 22
  },
  {
   "metadata": {
    "ExecuteTime": {
     "end_time": "2024-10-03T19:20:47.093870Z",
     "start_time": "2024-10-03T19:20:47.087832Z"
    }
   },
   "cell_type": "code",
   "source": [
    "model.config"
   ],
   "id": "3766f581e0ba9edb",
   "outputs": [
    {
     "data": {
      "text/plain": [
       "BertConfig {\n",
       "  \"_name_or_path\": \"bert-base-uncased\",\n",
       "  \"architectures\": [\n",
       "    \"BertForMaskedLM\"\n",
       "  ],\n",
       "  \"attention_probs_dropout_prob\": 0.1,\n",
       "  \"classifier_dropout\": null,\n",
       "  \"gradient_checkpointing\": false,\n",
       "  \"hidden_act\": \"gelu\",\n",
       "  \"hidden_dropout_prob\": 0.1,\n",
       "  \"hidden_size\": 768,\n",
       "  \"initializer_range\": 0.02,\n",
       "  \"intermediate_size\": 3072,\n",
       "  \"layer_norm_eps\": 1e-12,\n",
       "  \"max_position_embeddings\": 512,\n",
       "  \"model_type\": \"bert\",\n",
       "  \"num_attention_heads\": 12,\n",
       "  \"num_hidden_layers\": 12,\n",
       "  \"pad_token_id\": 0,\n",
       "  \"position_embedding_type\": \"absolute\",\n",
       "  \"transformers_version\": \"4.45.1\",\n",
       "  \"type_vocab_size\": 2,\n",
       "  \"use_cache\": true,\n",
       "  \"vocab_size\": 30522\n",
       "}"
      ]
     },
     "execution_count": 23,
     "metadata": {},
     "output_type": "execute_result"
    }
   ],
   "execution_count": 23
  },
  {
   "metadata": {},
   "cell_type": "markdown",
   "source": [
    "## Fine-Tuning"
   ],
   "id": "b2694d576877a860"
  },
  {
   "metadata": {
    "ExecuteTime": {
     "end_time": "2024-10-03T19:20:47.098480Z",
     "start_time": "2024-10-03T19:20:47.095376Z"
    }
   },
   "cell_type": "code",
   "source": [
    "from transformers import AutoModelForSequenceClassification, AutoConfig"
   ],
   "id": "90f2f4ad9905ff71",
   "outputs": [],
   "execution_count": 24
  },
  {
   "metadata": {
    "ExecuteTime": {
     "end_time": "2024-10-03T19:20:47.634466Z",
     "start_time": "2024-10-03T19:20:47.099987Z"
    }
   },
   "cell_type": "code",
   "source": [
    "# number of emotions labels\n",
    "num_labels = len(label2id)\n",
    "\n",
    "# try to use GPU or CPU\n",
    "device = torch.device(\"cuda\" if torch.cuda.is_available() else \"cpu\")\n",
    "\n",
    "# Fine-tunig\n",
    "config = AutoConfig.from_pretrained(model_ckpt, num_labels=num_labels, label2id=label2id, id2label=id2label)\n",
    "\n",
    "# Applying fine-tuning and saving it in GPU or CPU\n",
    "model = AutoModelForSequenceClassification.from_pretrained(model_ckpt, config=config).to(device)"
   ],
   "id": "467524b81c578529",
   "outputs": [
    {
     "ename": "NameError",
     "evalue": "name 'label2id' is not defined",
     "output_type": "error",
     "traceback": [
      "\u001B[1;31m---------------------------------------------------------------------------\u001B[0m",
      "\u001B[1;31mNameError\u001B[0m                                 Traceback (most recent call last)",
      "Cell \u001B[1;32mIn[25], line 2\u001B[0m\n\u001B[0;32m      1\u001B[0m \u001B[38;5;66;03m# number of emotions labels\u001B[39;00m\n\u001B[1;32m----> 2\u001B[0m num_labels \u001B[38;5;241m=\u001B[39m \u001B[38;5;28mlen\u001B[39m(\u001B[43mlabel2id\u001B[49m)\n\u001B[0;32m      4\u001B[0m \u001B[38;5;66;03m# try to use GPU or CPU\u001B[39;00m\n\u001B[0;32m      5\u001B[0m device \u001B[38;5;241m=\u001B[39m torch\u001B[38;5;241m.\u001B[39mdevice(\u001B[38;5;124m\"\u001B[39m\u001B[38;5;124mcuda\u001B[39m\u001B[38;5;124m\"\u001B[39m \u001B[38;5;28;01mif\u001B[39;00m torch\u001B[38;5;241m.\u001B[39mcuda\u001B[38;5;241m.\u001B[39mis_available() \u001B[38;5;28;01melse\u001B[39;00m \u001B[38;5;124m\"\u001B[39m\u001B[38;5;124mcpu\u001B[39m\u001B[38;5;124m\"\u001B[39m)\n",
      "\u001B[1;31mNameError\u001B[0m: name 'label2id' is not defined"
     ]
    }
   ],
   "execution_count": 25
  },
  {
   "metadata": {},
   "cell_type": "markdown",
   "source": [
    "## Compute metrics"
   ],
   "id": "49ecca33bd6854c4"
  },
  {
   "metadata": {
    "ExecuteTime": {
     "end_time": "2024-10-03T19:20:47.635221Z",
     "start_time": "2024-10-03T19:20:47.635221Z"
    }
   },
   "cell_type": "code",
   "source": [
    "import evaluate\n",
    "\n",
    "accuracy = evaluate.load('accuracy')"
   ],
   "id": "13e0eaa03024d7eb",
   "outputs": [],
   "execution_count": null
  },
  {
   "metadata": {
    "ExecuteTime": {
     "end_time": "2024-10-03T19:22:18.870166Z",
     "start_time": "2024-10-03T19:22:18.866397Z"
    }
   },
   "cell_type": "code",
   "source": [
    "def compute_metrics(pred):\n",
    "    logits, labels = pred\n",
    "    predictions = np.argmax(logits, axis=-1)\n",
    "    return accuracy.compute(predictions=predictions, references=labels)"
   ],
   "id": "c2863025c7195a89",
   "outputs": [],
   "execution_count": 26
  },
  {
   "metadata": {},
   "cell_type": "markdown",
   "source": [
    "## Training"
   ],
   "id": "db350941ea0dfc07"
  },
  {
   "metadata": {
    "ExecuteTime": {
     "end_time": "2024-10-03T19:22:21.725103Z",
     "start_time": "2024-10-03T19:22:21.676239Z"
    }
   },
   "cell_type": "code",
   "source": [
    "from transformers import TrainingArguments, Trainer"
   ],
   "id": "4ca19b173f7efcf8",
   "outputs": [],
   "execution_count": 27
  },
  {
   "metadata": {
    "ExecuteTime": {
     "end_time": "2024-10-03T19:22:24.736438Z",
     "start_time": "2024-10-03T19:22:24.717423Z"
    }
   },
   "cell_type": "code",
   "source": [
    "batch_size = 64\n",
    "\n",
    "training_dir = \"bert_base_train_dir\"\n",
    "\n",
    "training_args = TrainingArguments(\n",
    "    output_dir = training_dir,\n",
    "    overwrite_output_dir = True,\n",
    "    num_train_epochs = 3,\n",
    "    learning_rate = 2e-5,\n",
    "    per_device_train_batch_size = batch_size,\n",
    "    per_device_eval_batch_size = batch_size,\n",
    "    weight_decay = 0.01,\n",
    "    evaluation_strategy = \"epoch\",\n",
    "    save_strategy = \"epoch\",\n",
    "    disable_tqdm = False\n",
    ")"
   ],
   "id": "c5d98ee649194cb5",
   "outputs": [
    {
     "name": "stderr",
     "output_type": "stream",
     "text": [
      "C:\\projects\\bert\\.venv\\Lib\\site-packages\\transformers\\training_args.py:1545: FutureWarning: `evaluation_strategy` is deprecated and will be removed in version 4.46 of 🤗 Transformers. Use `eval_strategy` instead\n",
      "  warnings.warn(\n"
     ]
    }
   ],
   "execution_count": 28
  },
  {
   "metadata": {
    "ExecuteTime": {
     "end_time": "2024-10-03T19:22:40.553311Z",
     "start_time": "2024-10-03T19:22:40.548564Z"
    }
   },
   "cell_type": "code",
   "source": "tokenizer",
   "id": "55d53f059ae9adea",
   "outputs": [
    {
     "data": {
      "text/plain": [
       "BertTokenizerFast(name_or_path='bert-base-uncased', vocab_size=30522, model_max_length=512, is_fast=True, padding_side='right', truncation_side='right', special_tokens={'unk_token': '[UNK]', 'sep_token': '[SEP]', 'pad_token': '[PAD]', 'cls_token': '[CLS]', 'mask_token': '[MASK]'}, clean_up_tokenization_spaces=False),  added_tokens_decoder={\n",
       "\t0: AddedToken(\"[PAD]\", rstrip=False, lstrip=False, single_word=False, normalized=False, special=True),\n",
       "\t100: AddedToken(\"[UNK]\", rstrip=False, lstrip=False, single_word=False, normalized=False, special=True),\n",
       "\t101: AddedToken(\"[CLS]\", rstrip=False, lstrip=False, single_word=False, normalized=False, special=True),\n",
       "\t102: AddedToken(\"[SEP]\", rstrip=False, lstrip=False, single_word=False, normalized=False, special=True),\n",
       "\t103: AddedToken(\"[MASK]\", rstrip=False, lstrip=False, single_word=False, normalized=False, special=True),\n",
       "}"
      ]
     },
     "execution_count": 29,
     "metadata": {},
     "output_type": "execute_result"
    }
   ],
   "execution_count": 29
  },
  {
   "metadata": {
    "ExecuteTime": {
     "end_time": "2024-10-03T19:22:47.935850Z",
     "start_time": "2024-10-03T19:22:47.899491Z"
    }
   },
   "cell_type": "code",
   "source": [
    "trainer = Trainer(model = model,\n",
    "                  args = training_args,\n",
    "                  compute_metrics = compute_metrics,\n",
    "                  train_dataset = emotion_encoded['train'],\n",
    "                  eval_dataset = emotion_encoded['validation'],\n",
    "                  tokenizer = tokenizer)"
   ],
   "id": "5d720ea1eb43391",
   "outputs": [
    {
     "ename": "NameError",
     "evalue": "name 'emotion_encoded' is not defined",
     "output_type": "error",
     "traceback": [
      "\u001B[1;31m---------------------------------------------------------------------------\u001B[0m",
      "\u001B[1;31mNameError\u001B[0m                                 Traceback (most recent call last)",
      "Cell \u001B[1;32mIn[30], line 4\u001B[0m\n\u001B[0;32m      1\u001B[0m trainer \u001B[38;5;241m=\u001B[39m Trainer(model \u001B[38;5;241m=\u001B[39m model,\n\u001B[0;32m      2\u001B[0m                   args \u001B[38;5;241m=\u001B[39m training_args,\n\u001B[0;32m      3\u001B[0m                   compute_metrics \u001B[38;5;241m=\u001B[39m compute_metrics,\n\u001B[1;32m----> 4\u001B[0m                   train_dataset \u001B[38;5;241m=\u001B[39m \u001B[43memotion_encoded\u001B[49m[\u001B[38;5;124m'\u001B[39m\u001B[38;5;124mtrain\u001B[39m\u001B[38;5;124m'\u001B[39m],\n\u001B[0;32m      5\u001B[0m                   eval_dataset \u001B[38;5;241m=\u001B[39m emotion_encoded[\u001B[38;5;124m'\u001B[39m\u001B[38;5;124mvalidation\u001B[39m\u001B[38;5;124m'\u001B[39m],\n\u001B[0;32m      6\u001B[0m                   tokenizer \u001B[38;5;241m=\u001B[39m tokenizer)\n",
      "\u001B[1;31mNameError\u001B[0m: name 'emotion_encoded' is not defined"
     ]
    }
   ],
   "execution_count": 30
  },
  {
   "metadata": {
    "ExecuteTime": {
     "end_time": "2024-10-03T19:23:17.233540Z",
     "start_time": "2024-10-03T19:23:17.214674Z"
    }
   },
   "cell_type": "code",
   "source": "trainer.train()",
   "id": "f843d8f7d40b4cc9",
   "outputs": [
    {
     "ename": "NameError",
     "evalue": "name 'trainer' is not defined",
     "output_type": "error",
     "traceback": [
      "\u001B[1;31m---------------------------------------------------------------------------\u001B[0m",
      "\u001B[1;31mNameError\u001B[0m                                 Traceback (most recent call last)",
      "Cell \u001B[1;32mIn[31], line 1\u001B[0m\n\u001B[1;32m----> 1\u001B[0m \u001B[43mtrainer\u001B[49m\u001B[38;5;241m.\u001B[39mtrain()\n",
      "\u001B[1;31mNameError\u001B[0m: name 'trainer' is not defined"
     ]
    }
   ],
   "execution_count": 31
  },
  {
   "metadata": {},
   "cell_type": "markdown",
   "source": "## Model Evaluation ",
   "id": "164f30475df18e5e"
  },
  {
   "metadata": {},
   "cell_type": "code",
   "outputs": [],
   "execution_count": null,
   "source": [
    "preds_output = trainer.predict(emotion_encoded['test'])\n",
    "preds_output.metrics"
   ],
   "id": "349c59d555522db6"
  },
  {
   "metadata": {},
   "cell_type": "code",
   "outputs": [],
   "execution_count": null,
   "source": "preds_output.predictions",
   "id": "c5ae12d8beea1284"
  },
  {
   "metadata": {},
   "cell_type": "code",
   "outputs": [],
   "execution_count": null,
   "source": [
    "# getting just the max probability, because we are using softmax\n",
    "y_pred = np.argmax(preds_output.predictions, axis=1)\n",
    "\n",
    "# getting the true (original) values\n",
    "y_true = emotion_encoded['test'][:]['label']"
   ],
   "id": "d7173c585ea7b666"
  }
 ],
 "metadata": {
  "kernelspec": {
   "display_name": "Python 3",
   "language": "python",
   "name": "python3"
  },
  "language_info": {
   "codemirror_mode": {
    "name": "ipython",
    "version": 2
   },
   "file_extension": ".py",
   "mimetype": "text/x-python",
   "name": "python",
   "nbconvert_exporter": "python",
   "pygments_lexer": "ipython2",
   "version": "2.7.6"
  }
 },
 "nbformat": 4,
 "nbformat_minor": 5
}
