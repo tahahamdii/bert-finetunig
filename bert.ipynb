{
 "cells": [
  {
   "cell_type": "code",
   "id": "initial_id",
   "metadata": {
    "collapsed": true,
    "ExecuteTime": {
     "end_time": "2024-09-17T22:29:40.769500Z",
     "start_time": "2024-09-17T22:24:16.491719Z"
    }
   },
   "source": [
    "!pip install -U -q transformers\n",
    "!pip install -U -q accelerate\n",
    "!pip install -U -q datasets\n",
    "!pip install -U -q bertviz\n",
    "!pip install -U -q umap-learn\n",
    "!pip install -U -q evaluate"
   ],
   "outputs": [
    {
     "name": "stderr",
     "output_type": "stream",
     "text": [
      "Could not find platform independent libraries <prefix>\n",
      "\n",
      "[notice] A new release of pip is available: 23.2.1 -> 24.2\n",
      "[notice] To update, run: python.exe -m pip install --upgrade pip\n",
      "Could not find platform independent libraries <prefix>\n",
      "\n",
      "[notice] A new release of pip is available: 23.2.1 -> 24.2\n",
      "[notice] To update, run: python.exe -m pip install --upgrade pip\n",
      "Could not find platform independent libraries <prefix>\n",
      "\n",
      "[notice] A new release of pip is available: 23.2.1 -> 24.2\n",
      "[notice] To update, run: python.exe -m pip install --upgrade pip\n",
      "Could not find platform independent libraries <prefix>\n",
      "\n",
      "[notice] A new release of pip is available: 23.2.1 -> 24.2\n",
      "[notice] To update, run: python.exe -m pip install --upgrade pip\n",
      "Could not find platform independent libraries <prefix>\n",
      "\n",
      "[notice] A new release of pip is available: 23.2.1 -> 24.2\n",
      "[notice] To update, run: python.exe -m pip install --upgrade pip\n"
     ]
    },
    {
     "name": "stdout",
     "output_type": "stream",
     "text": [
      "^C\n"
     ]
    }
   ],
   "execution_count": 1
  },
  {
   "metadata": {
    "ExecuteTime": {
     "end_time": "2024-09-19T22:22:18.526086Z",
     "start_time": "2024-09-19T22:22:04.356409Z"
    }
   },
   "cell_type": "code",
   "source": "!pip install matplotlib\n",
   "id": "d1407826ec077acf",
   "outputs": [
    {
     "name": "stderr",
     "output_type": "stream",
     "text": [
      "Could not find platform independent libraries <prefix>\n",
      "\n",
      "[notice] A new release of pip is available: 23.2.1 -> 24.2\n",
      "[notice] To update, run: python.exe -m pip install --upgrade pip\n"
     ]
    },
    {
     "name": "stdout",
     "output_type": "stream",
     "text": [
      "Collecting matplotlib\n",
      "  Obtaining dependency information for matplotlib from https://files.pythonhosted.org/packages/8b/ce/15b0bb2fb29b3d46211d8ca740b96b5232499fc49200b58b8d571292c9a6/matplotlib-3.9.2-cp311-cp311-win_amd64.whl.metadata\n",
      "  Downloading matplotlib-3.9.2-cp311-cp311-win_amd64.whl.metadata (11 kB)\n",
      "Collecting contourpy>=1.0.1 (from matplotlib)\n",
      "  Obtaining dependency information for contourpy>=1.0.1 from https://files.pythonhosted.org/packages/8d/2f/804f02ff30a7fae21f98198828d0857439ec4c91a96e20cf2d6c49372966/contourpy-1.3.0-cp311-cp311-win_amd64.whl.metadata\n",
      "  Downloading contourpy-1.3.0-cp311-cp311-win_amd64.whl.metadata (5.4 kB)\n",
      "Collecting cycler>=0.10 (from matplotlib)\n",
      "  Obtaining dependency information for cycler>=0.10 from https://files.pythonhosted.org/packages/e7/05/c19819d5e3d95294a6f5947fb9b9629efb316b96de511b418c53d245aae6/cycler-0.12.1-py3-none-any.whl.metadata\n",
      "  Downloading cycler-0.12.1-py3-none-any.whl.metadata (3.8 kB)\n",
      "Collecting fonttools>=4.22.0 (from matplotlib)\n",
      "  Obtaining dependency information for fonttools>=4.22.0 from https://files.pythonhosted.org/packages/c8/e1/059700c154bd7170d1c37061239836d2e51ff608f47075450f06dd3c292a/fonttools-4.53.1-cp311-cp311-win_amd64.whl.metadata\n",
      "  Downloading fonttools-4.53.1-cp311-cp311-win_amd64.whl.metadata (165 kB)\n",
      "     ---------------------------------------- 0.0/165.9 kB ? eta -:--:--\n",
      "     ------ ------------------------------ 30.7/165.9 kB 660.6 kB/s eta 0:00:01\n",
      "     --------- --------------------------- 41.0/165.9 kB 495.5 kB/s eta 0:00:01\n",
      "     -------------------- ---------------- 92.2/165.9 kB 751.6 kB/s eta 0:00:01\n",
      "     -------------------------- --------- 122.9/165.9 kB 798.9 kB/s eta 0:00:01\n",
      "     ------------------------------------ 165.9/165.9 kB 905.1 kB/s eta 0:00:00\n",
      "Collecting kiwisolver>=1.3.1 (from matplotlib)\n",
      "  Obtaining dependency information for kiwisolver>=1.3.1 from https://files.pythonhosted.org/packages/a1/65/d43e9a20aabcf2e798ad1aff6c143ae3a42cf506754bcb6a7ed8259c8425/kiwisolver-1.4.7-cp311-cp311-win_amd64.whl.metadata\n",
      "  Downloading kiwisolver-1.4.7-cp311-cp311-win_amd64.whl.metadata (6.4 kB)\n",
      "Requirement already satisfied: numpy>=1.23 in c:\\projects\\bert\\.venv\\lib\\site-packages (from matplotlib) (2.0.2)\n",
      "Requirement already satisfied: packaging>=20.0 in c:\\projects\\bert\\.venv\\lib\\site-packages (from matplotlib) (24.1)\n",
      "Collecting pillow>=8 (from matplotlib)\n",
      "  Obtaining dependency information for pillow>=8 from https://files.pythonhosted.org/packages/c1/d0/5866318eec2b801cdb8c82abf190c8343d8a1cd8bf5a0c17444a6f268291/pillow-10.4.0-cp311-cp311-win_amd64.whl.metadata\n",
      "  Using cached pillow-10.4.0-cp311-cp311-win_amd64.whl.metadata (9.3 kB)\n",
      "Collecting pyparsing>=2.3.1 (from matplotlib)\n",
      "  Obtaining dependency information for pyparsing>=2.3.1 from https://files.pythonhosted.org/packages/e5/0c/0e3c05b1c87bb6a1c76d281b0f35e78d2d80ac91b5f8f524cebf77f51049/pyparsing-3.1.4-py3-none-any.whl.metadata\n",
      "  Downloading pyparsing-3.1.4-py3-none-any.whl.metadata (5.1 kB)\n",
      "Requirement already satisfied: python-dateutil>=2.7 in c:\\projects\\bert\\.venv\\lib\\site-packages (from matplotlib) (2.9.0.post0)\n",
      "Requirement already satisfied: six>=1.5 in c:\\projects\\bert\\.venv\\lib\\site-packages (from python-dateutil>=2.7->matplotlib) (1.16.0)\n",
      "Downloading matplotlib-3.9.2-cp311-cp311-win_amd64.whl (7.8 MB)\n",
      "   ---------------------------------------- 0.0/7.8 MB ? eta -:--:--\n",
      "   ---------------------------------------- 0.0/7.8 MB 2.0 MB/s eta 0:00:04\n",
      "   ---------------------------------------- 0.1/7.8 MB 1.3 MB/s eta 0:00:06\n",
      "    --------------------------------------- 0.1/7.8 MB 1.2 MB/s eta 0:00:07\n",
      "    --------------------------------------- 0.1/7.8 MB 1.2 MB/s eta 0:00:07\n",
      "    --------------------------------------- 0.2/7.8 MB 1.0 MB/s eta 0:00:08\n",
      "   - -------------------------------------- 0.2/7.8 MB 1.1 MB/s eta 0:00:07\n",
      "   - -------------------------------------- 0.3/7.8 MB 1.1 MB/s eta 0:00:07\n",
      "   - -------------------------------------- 0.3/7.8 MB 1.2 MB/s eta 0:00:07\n",
      "   - -------------------------------------- 0.4/7.8 MB 1.2 MB/s eta 0:00:07\n",
      "   -- ------------------------------------- 0.4/7.8 MB 1.2 MB/s eta 0:00:07\n",
      "   -- ------------------------------------- 0.5/7.8 MB 1.2 MB/s eta 0:00:07\n",
      "   -- ------------------------------------- 0.5/7.8 MB 1.2 MB/s eta 0:00:07\n",
      "   --- ------------------------------------ 0.6/7.8 MB 1.2 MB/s eta 0:00:06\n",
      "   --- ------------------------------------ 0.6/7.8 MB 1.2 MB/s eta 0:00:06\n",
      "   --- ------------------------------------ 0.6/7.8 MB 1.2 MB/s eta 0:00:07\n",
      "   --- ------------------------------------ 0.7/7.8 MB 1.2 MB/s eta 0:00:06\n",
      "   --- ------------------------------------ 0.7/7.8 MB 1.2 MB/s eta 0:00:06\n",
      "   ---- ----------------------------------- 0.8/7.8 MB 1.3 MB/s eta 0:00:06\n",
      "   ---- ----------------------------------- 0.9/7.8 MB 1.3 MB/s eta 0:00:06\n",
      "   ---- ----------------------------------- 0.9/7.8 MB 1.3 MB/s eta 0:00:06\n",
      "   ---- ----------------------------------- 1.0/7.8 MB 1.3 MB/s eta 0:00:06\n",
      "   ----- ---------------------------------- 1.0/7.8 MB 1.3 MB/s eta 0:00:06\n",
      "   ----- ---------------------------------- 1.1/7.8 MB 1.3 MB/s eta 0:00:06\n",
      "   ----- ---------------------------------- 1.2/7.8 MB 1.3 MB/s eta 0:00:05\n",
      "   ------ --------------------------------- 1.2/7.8 MB 1.4 MB/s eta 0:00:05\n",
      "   ------ --------------------------------- 1.3/7.8 MB 1.3 MB/s eta 0:00:05\n",
      "   ------ --------------------------------- 1.3/7.8 MB 1.4 MB/s eta 0:00:05\n",
      "   ------- -------------------------------- 1.4/7.8 MB 1.4 MB/s eta 0:00:05\n",
      "   ------- -------------------------------- 1.5/7.8 MB 1.4 MB/s eta 0:00:05\n",
      "   ------- -------------------------------- 1.5/7.8 MB 1.4 MB/s eta 0:00:05\n",
      "   -------- ------------------------------- 1.6/7.8 MB 1.4 MB/s eta 0:00:05\n",
      "   -------- ------------------------------- 1.7/7.8 MB 1.5 MB/s eta 0:00:05\n",
      "   -------- ------------------------------- 1.8/7.8 MB 1.5 MB/s eta 0:00:05\n",
      "   --------- ------------------------------ 1.8/7.8 MB 1.5 MB/s eta 0:00:05\n",
      "   --------- ------------------------------ 1.9/7.8 MB 1.5 MB/s eta 0:00:04\n",
      "   ---------- ----------------------------- 2.0/7.8 MB 1.5 MB/s eta 0:00:04\n",
      "   ---------- ----------------------------- 2.0/7.8 MB 1.5 MB/s eta 0:00:04\n",
      "   ---------- ----------------------------- 2.2/7.8 MB 1.6 MB/s eta 0:00:04\n",
      "   ----------- ---------------------------- 2.2/7.8 MB 1.6 MB/s eta 0:00:04\n",
      "   ----------- ---------------------------- 2.3/7.8 MB 1.6 MB/s eta 0:00:04\n",
      "   ------------ --------------------------- 2.4/7.8 MB 1.6 MB/s eta 0:00:04\n",
      "   ------------ --------------------------- 2.4/7.8 MB 1.6 MB/s eta 0:00:04\n",
      "   ------------ --------------------------- 2.5/7.8 MB 1.6 MB/s eta 0:00:04\n",
      "   ------------- -------------------------- 2.6/7.8 MB 1.7 MB/s eta 0:00:04\n",
      "   ------------- -------------------------- 2.7/7.8 MB 1.6 MB/s eta 0:00:04\n",
      "   -------------- ------------------------- 2.7/7.8 MB 1.7 MB/s eta 0:00:04\n",
      "   -------------- ------------------------- 2.9/7.8 MB 1.7 MB/s eta 0:00:03\n",
      "   --------------- ------------------------ 2.9/7.8 MB 1.7 MB/s eta 0:00:03\n",
      "   --------------- ------------------------ 3.0/7.8 MB 1.7 MB/s eta 0:00:03\n",
      "   --------------- ------------------------ 3.1/7.8 MB 1.7 MB/s eta 0:00:03\n",
      "   ---------------- ----------------------- 3.2/7.8 MB 1.8 MB/s eta 0:00:03\n",
      "   ---------------- ----------------------- 3.3/7.8 MB 1.8 MB/s eta 0:00:03\n",
      "   ----------------- ---------------------- 3.4/7.8 MB 1.8 MB/s eta 0:00:03\n",
      "   ----------------- ---------------------- 3.5/7.8 MB 1.8 MB/s eta 0:00:03\n",
      "   ------------------ --------------------- 3.6/7.8 MB 1.8 MB/s eta 0:00:03\n",
      "   ------------------ --------------------- 3.7/7.8 MB 1.8 MB/s eta 0:00:03\n",
      "   ------------------- -------------------- 3.9/7.8 MB 1.9 MB/s eta 0:00:03\n",
      "   -------------------- ------------------- 4.0/7.8 MB 1.9 MB/s eta 0:00:03\n",
      "   -------------------- ------------------- 4.1/7.8 MB 1.9 MB/s eta 0:00:02\n",
      "   --------------------- ------------------ 4.2/7.8 MB 2.0 MB/s eta 0:00:02\n",
      "   ---------------------- ----------------- 4.4/7.8 MB 2.0 MB/s eta 0:00:02\n",
      "   ---------------------- ----------------- 4.5/7.8 MB 2.0 MB/s eta 0:00:02\n",
      "   ----------------------- ---------------- 4.6/7.8 MB 2.0 MB/s eta 0:00:02\n",
      "   ------------------------ --------------- 4.8/7.8 MB 2.1 MB/s eta 0:00:02\n",
      "   ------------------------ --------------- 4.8/7.8 MB 2.1 MB/s eta 0:00:02\n",
      "   ------------------------- -------------- 5.0/7.8 MB 2.1 MB/s eta 0:00:02\n",
      "   -------------------------- ------------- 5.2/7.8 MB 2.1 MB/s eta 0:00:02\n",
      "   --------------------------- ------------ 5.3/7.8 MB 2.2 MB/s eta 0:00:02\n",
      "   ---------------------------- ----------- 5.5/7.8 MB 2.2 MB/s eta 0:00:02\n",
      "   ---------------------------- ----------- 5.6/7.8 MB 2.2 MB/s eta 0:00:02\n",
      "   ----------------------------- ---------- 5.7/7.8 MB 2.2 MB/s eta 0:00:01\n",
      "   ------------------------------ --------- 5.9/7.8 MB 2.3 MB/s eta 0:00:01\n",
      "   ------------------------------- -------- 6.1/7.8 MB 2.3 MB/s eta 0:00:01\n",
      "   ------------------------------- -------- 6.2/7.8 MB 2.3 MB/s eta 0:00:01\n",
      "   -------------------------------- ------- 6.3/7.8 MB 2.3 MB/s eta 0:00:01\n",
      "   --------------------------------- ------ 6.5/7.8 MB 2.4 MB/s eta 0:00:01\n",
      "   --------------------------------- ------ 6.6/7.8 MB 2.4 MB/s eta 0:00:01\n",
      "   --------------------------------- ------ 6.6/7.8 MB 2.4 MB/s eta 0:00:01\n",
      "   ---------------------------------- ----- 6.7/7.8 MB 2.4 MB/s eta 0:00:01\n",
      "   ---------------------------------- ----- 6.7/7.8 MB 2.4 MB/s eta 0:00:01\n",
      "   ---------------------------------- ----- 6.7/7.8 MB 2.4 MB/s eta 0:00:01\n",
      "   ---------------------------------- ----- 6.8/7.8 MB 2.3 MB/s eta 0:00:01\n",
      "   ---------------------------------- ----- 6.8/7.8 MB 2.3 MB/s eta 0:00:01\n",
      "   ------------------------------------ --- 7.2/7.8 MB 2.4 MB/s eta 0:00:01\n",
      "   ------------------------------------- -- 7.3/7.8 MB 2.4 MB/s eta 0:00:01\n",
      "   -------------------------------------- - 7.5/7.8 MB 2.4 MB/s eta 0:00:01\n",
      "   -------------------------------------- - 7.6/7.8 MB 2.4 MB/s eta 0:00:01\n",
      "   ---------------------------------------  7.7/7.8 MB 2.4 MB/s eta 0:00:01\n",
      "   ---------------------------------------  7.8/7.8 MB 2.5 MB/s eta 0:00:01\n",
      "   ---------------------------------------- 7.8/7.8 MB 2.4 MB/s eta 0:00:00\n",
      "Downloading contourpy-1.3.0-cp311-cp311-win_amd64.whl (217 kB)\n",
      "   ---------------------------------------- 0.0/217.2 kB ? eta -:--:--\n",
      "   ------------------ --------------------- 102.4/217.2 kB 3.0 MB/s eta 0:00:01\n",
      "   ---------------------------------------- 217.2/217.2 kB 3.3 MB/s eta 0:00:00\n",
      "Downloading cycler-0.12.1-py3-none-any.whl (8.3 kB)\n",
      "Downloading fonttools-4.53.1-cp311-cp311-win_amd64.whl (2.2 MB)\n",
      "   ---------------------------------------- 0.0/2.2 MB ? eta -:--:--\n",
      "   -- ------------------------------------- 0.1/2.2 MB 7.0 MB/s eta 0:00:01\n",
      "   ----- ---------------------------------- 0.3/2.2 MB 4.9 MB/s eta 0:00:01\n",
      "   ------ --------------------------------- 0.4/2.2 MB 3.8 MB/s eta 0:00:01\n",
      "   -------- ------------------------------- 0.5/2.2 MB 3.3 MB/s eta 0:00:01\n",
      "   ----------- ---------------------------- 0.6/2.2 MB 4.0 MB/s eta 0:00:01\n",
      "   ------------- -------------------------- 0.7/2.2 MB 3.6 MB/s eta 0:00:01\n",
      "   --------------- ------------------------ 0.9/2.2 MB 3.6 MB/s eta 0:00:01\n",
      "   ------------------ --------------------- 1.0/2.2 MB 3.5 MB/s eta 0:00:01\n",
      "   -------------------- ------------------- 1.1/2.2 MB 3.6 MB/s eta 0:00:01\n",
      "   ---------------------- ----------------- 1.2/2.2 MB 3.6 MB/s eta 0:00:01\n",
      "   ------------------------- -------------- 1.4/2.2 MB 3.8 MB/s eta 0:00:01\n",
      "   ---------------------------- ----------- 1.6/2.2 MB 3.7 MB/s eta 0:00:01\n",
      "   ---------------------------- ----------- 1.6/2.2 MB 3.6 MB/s eta 0:00:01\n",
      "   ------------------------------ --------- 1.7/2.2 MB 3.5 MB/s eta 0:00:01\n",
      "   ---------------------------------- ----- 1.9/2.2 MB 3.5 MB/s eta 0:00:01\n",
      "   ---------------------------------- ----- 1.9/2.2 MB 3.5 MB/s eta 0:00:01\n",
      "   ------------------------------------ --- 2.0/2.2 MB 3.3 MB/s eta 0:00:01\n",
      "   -------------------------------------- - 2.1/2.2 MB 3.4 MB/s eta 0:00:01\n",
      "   ---------------------------------------- 2.2/2.2 MB 3.3 MB/s eta 0:00:00\n",
      "Downloading kiwisolver-1.4.7-cp311-cp311-win_amd64.whl (56 kB)\n",
      "   ---------------------------------------- 0.0/56.0 kB ? eta -:--:--\n",
      "   ---------------------------------------- 56.0/56.0 kB 2.9 MB/s eta 0:00:00\n",
      "Using cached pillow-10.4.0-cp311-cp311-win_amd64.whl (2.6 MB)\n",
      "Downloading pyparsing-3.1.4-py3-none-any.whl (104 kB)\n",
      "   ---------------------------------------- 0.0/104.1 kB ? eta -:--:--\n",
      "   ---------------------------------------- 104.1/104.1 kB 3.0 MB/s eta 0:00:00\n",
      "Installing collected packages: pyparsing, pillow, kiwisolver, fonttools, cycler, contourpy, matplotlib\n",
      "Successfully installed contourpy-1.3.0 cycler-0.12.1 fonttools-4.53.1 kiwisolver-1.4.7 matplotlib-3.9.2 pillow-10.4.0 pyparsing-3.1.4\n"
     ]
    }
   ],
   "execution_count": 9
  },
  {
   "metadata": {
    "ExecuteTime": {
     "end_time": "2024-09-19T22:24:51.883432Z",
     "start_time": "2024-09-19T22:24:50.668583Z"
    }
   },
   "cell_type": "code",
   "source": [
    "import torch\n",
    "import numpy as np\n",
    "import pandas as pd\n",
    "import matplotlib.pyplot as plt"
   ],
   "id": "29385b7064059573",
   "outputs": [],
   "execution_count": 10
  },
  {
   "metadata": {
    "ExecuteTime": {
     "end_time": "2024-09-19T22:01:25.072468Z",
     "start_time": "2024-09-19T22:01:22.548037Z"
    }
   },
   "cell_type": "code",
   "source": [
    "from transformers import AutoTokenizer\n",
    "from sklearn.model_selection import train_test_split\n",
    "from datasets import Dataset, DatasetDict\n",
    "from transformers import AutoModel"
   ],
   "id": "da4b219c21631374",
   "outputs": [],
   "execution_count": 2
  },
  {
   "metadata": {
    "ExecuteTime": {
     "end_time": "2024-09-19T22:04:46.930597Z",
     "start_time": "2024-09-19T22:04:45.155568Z"
    }
   },
   "cell_type": "code",
   "source": [
    "url_dataset = 'https://raw.githubusercontent.com/tahahamdii/bert-finetunig/main/sentiment.csv'\n",
    "df = pd.read_csv(url_dataset)\n",
    "df"
   ],
   "id": "a40f54a096be4a79",
   "outputs": [
    {
     "data": {
      "text/plain": [
       "                                                    text  label label_name\n",
       "0                                i didnt feel humiliated      0    sadness\n",
       "1      i can go from feeling so hopeless to so damned...      0    sadness\n",
       "2       im grabbing a minute to post i feel greedy wrong      3      anger\n",
       "3      i am ever feeling nostalgic about the fireplac...      2       love\n",
       "4                                   i am feeling grouchy      3      anger\n",
       "...                                                  ...    ...        ...\n",
       "15995  i just had a very brief time in the beanbag an...      0    sadness\n",
       "15996  i am now turning and i feel pathetic that i am...      0    sadness\n",
       "15997                     i feel strong and good overall      1        joy\n",
       "15998  i feel like this was such a rude comment and i...      3      anger\n",
       "15999  i know a lot but i feel so stupid because i ca...      0    sadness\n",
       "\n",
       "[16000 rows x 3 columns]"
      ],
      "text/html": [
       "<div>\n",
       "<style scoped>\n",
       "    .dataframe tbody tr th:only-of-type {\n",
       "        vertical-align: middle;\n",
       "    }\n",
       "\n",
       "    .dataframe tbody tr th {\n",
       "        vertical-align: top;\n",
       "    }\n",
       "\n",
       "    .dataframe thead th {\n",
       "        text-align: right;\n",
       "    }\n",
       "</style>\n",
       "<table border=\"1\" class=\"dataframe\">\n",
       "  <thead>\n",
       "    <tr style=\"text-align: right;\">\n",
       "      <th></th>\n",
       "      <th>text</th>\n",
       "      <th>label</th>\n",
       "      <th>label_name</th>\n",
       "    </tr>\n",
       "  </thead>\n",
       "  <tbody>\n",
       "    <tr>\n",
       "      <th>0</th>\n",
       "      <td>i didnt feel humiliated</td>\n",
       "      <td>0</td>\n",
       "      <td>sadness</td>\n",
       "    </tr>\n",
       "    <tr>\n",
       "      <th>1</th>\n",
       "      <td>i can go from feeling so hopeless to so damned...</td>\n",
       "      <td>0</td>\n",
       "      <td>sadness</td>\n",
       "    </tr>\n",
       "    <tr>\n",
       "      <th>2</th>\n",
       "      <td>im grabbing a minute to post i feel greedy wrong</td>\n",
       "      <td>3</td>\n",
       "      <td>anger</td>\n",
       "    </tr>\n",
       "    <tr>\n",
       "      <th>3</th>\n",
       "      <td>i am ever feeling nostalgic about the fireplac...</td>\n",
       "      <td>2</td>\n",
       "      <td>love</td>\n",
       "    </tr>\n",
       "    <tr>\n",
       "      <th>4</th>\n",
       "      <td>i am feeling grouchy</td>\n",
       "      <td>3</td>\n",
       "      <td>anger</td>\n",
       "    </tr>\n",
       "    <tr>\n",
       "      <th>...</th>\n",
       "      <td>...</td>\n",
       "      <td>...</td>\n",
       "      <td>...</td>\n",
       "    </tr>\n",
       "    <tr>\n",
       "      <th>15995</th>\n",
       "      <td>i just had a very brief time in the beanbag an...</td>\n",
       "      <td>0</td>\n",
       "      <td>sadness</td>\n",
       "    </tr>\n",
       "    <tr>\n",
       "      <th>15996</th>\n",
       "      <td>i am now turning and i feel pathetic that i am...</td>\n",
       "      <td>0</td>\n",
       "      <td>sadness</td>\n",
       "    </tr>\n",
       "    <tr>\n",
       "      <th>15997</th>\n",
       "      <td>i feel strong and good overall</td>\n",
       "      <td>1</td>\n",
       "      <td>joy</td>\n",
       "    </tr>\n",
       "    <tr>\n",
       "      <th>15998</th>\n",
       "      <td>i feel like this was such a rude comment and i...</td>\n",
       "      <td>3</td>\n",
       "      <td>anger</td>\n",
       "    </tr>\n",
       "    <tr>\n",
       "      <th>15999</th>\n",
       "      <td>i know a lot but i feel so stupid because i ca...</td>\n",
       "      <td>0</td>\n",
       "      <td>sadness</td>\n",
       "    </tr>\n",
       "  </tbody>\n",
       "</table>\n",
       "<p>16000 rows × 3 columns</p>\n",
       "</div>"
      ]
     },
     "execution_count": 4,
     "metadata": {},
     "output_type": "execute_result"
    }
   ],
   "execution_count": 4
  },
  {
   "metadata": {},
   "cell_type": "code",
   "outputs": [],
   "execution_count": null,
   "source": "",
   "id": "ce84883aef2b00db"
  },
  {
   "metadata": {},
   "cell_type": "markdown",
   "source": "# Data Analysis",
   "id": "278d151dfca959a6"
  },
  {
   "metadata": {
    "ExecuteTime": {
     "end_time": "2024-09-19T22:18:46.866310Z",
     "start_time": "2024-09-19T22:18:46.847525Z"
    }
   },
   "cell_type": "code",
   "source": "df.info()",
   "id": "8f975c8366573e67",
   "outputs": [
    {
     "name": "stdout",
     "output_type": "stream",
     "text": [
      "<class 'pandas.core.frame.DataFrame'>\n",
      "RangeIndex: 16000 entries, 0 to 15999\n",
      "Data columns (total 3 columns):\n",
      " #   Column      Non-Null Count  Dtype \n",
      "---  ------      --------------  ----- \n",
      " 0   text        16000 non-null  object\n",
      " 1   label       16000 non-null  int64 \n",
      " 2   label_name  16000 non-null  object\n",
      "dtypes: int64(1), object(2)\n",
      "memory usage: 375.1+ KB\n"
     ]
    }
   ],
   "execution_count": 5
  },
  {
   "metadata": {},
   "cell_type": "code",
   "outputs": [],
   "execution_count": null,
   "source": "",
   "id": "62102184f12ac9f4"
  },
  {
   "metadata": {
    "ExecuteTime": {
     "end_time": "2024-09-19T22:18:55.034776Z",
     "start_time": "2024-09-19T22:18:55.027535Z"
    }
   },
   "cell_type": "code",
   "source": "df.isnull().sum()",
   "id": "ccb8418a1750d05a",
   "outputs": [
    {
     "data": {
      "text/plain": [
       "text          0\n",
       "label         0\n",
       "label_name    0\n",
       "dtype: int64"
      ]
     },
     "execution_count": 6,
     "metadata": {},
     "output_type": "execute_result"
    }
   ],
   "execution_count": 6
  },
  {
   "metadata": {
    "ExecuteTime": {
     "end_time": "2024-09-19T22:18:59.450929Z",
     "start_time": "2024-09-19T22:18:59.444671Z"
    }
   },
   "cell_type": "code",
   "source": "df['label'].value_counts()",
   "id": "2e58e8ee12a5849b",
   "outputs": [
    {
     "data": {
      "text/plain": [
       "label\n",
       "1    5362\n",
       "0    4666\n",
       "3    2159\n",
       "4    1937\n",
       "2    1304\n",
       "5     572\n",
       "Name: count, dtype: int64"
      ]
     },
     "execution_count": 7,
     "metadata": {},
     "output_type": "execute_result"
    }
   ],
   "execution_count": 7
  },
  {
   "metadata": {
    "ExecuteTime": {
     "end_time": "2024-09-19T22:24:56.030244Z",
     "start_time": "2024-09-19T22:24:55.821215Z"
    }
   },
   "cell_type": "code",
   "source": [
    "label_counts = df['label_name'].value_counts(ascending=True)\n",
    "label_counts.plot.barh()\n",
    "plt.title('Frequency of Classes')\n",
    "plt.ylabel('Emotions')\n"
   ],
   "id": "616baa65217609d",
   "outputs": [
    {
     "data": {
      "text/plain": [
       "Text(0, 0.5, 'Emotions')"
      ]
     },
     "execution_count": 11,
     "metadata": {},
     "output_type": "execute_result"
    },
    {
     "data": {
      "text/plain": [
       "<Figure size 640x480 with 1 Axes>"
      ],
      "image/png": "[encoded data removed]"
     },
     "metadata": {},
     "output_type": "display_data"
    }
   ],
   "execution_count": 11
  },
  {
   "metadata": {},
   "cell_type": "code",
   "outputs": [],
   "execution_count": null,
   "source": "",
   "id": "8cfa9be507d76918"
  }
 ],
 "metadata": {
  "kernelspec": {
   "display_name": "Python 3",
   "language": "python",
   "name": "python3"
  },
  "language_info": {
   "codemirror_mode": {
    "name": "ipython",
    "version": 2
   },
   "file_extension": ".py",
   "mimetype": "text/x-python",
   "name": "python",
   "nbconvert_exporter": "python",
   "pygments_lexer": "ipython2",
   "version": "2.7.6"
  }
 },
 "nbformat": 4,
 "nbformat_minor": 5
}
